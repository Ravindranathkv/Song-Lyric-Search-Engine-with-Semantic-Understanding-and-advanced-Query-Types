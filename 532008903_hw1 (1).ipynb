{
 "cells": [
  {
   "cell_type": "markdown",
   "metadata": {},
   "source": [
    "## Note to graders\n",
    "#### For lemmatizing process, words like won't, can't, don't are tokenized as wo, ca, do, n't. I could have handled it by removing those but I felt they carry important information. So, I expanded all the contractions and tokenized. Results might slightly differ because of that. "
   ]
  },
  {
   "cell_type": "code",
   "execution_count": 1,
   "metadata": {},
   "outputs": [
    {
     "name": "stdout",
     "output_type": "stream",
     "text": [
      "Requirement already satisfied: contractions in c:\\users\\ravin\\anaconda3\\lib\\site-packages (0.1.73)\n",
      "Requirement already satisfied: textsearch>=0.0.21 in c:\\users\\ravin\\anaconda3\\lib\\site-packages (from contractions) (0.0.24)\n",
      "Requirement already satisfied: anyascii in c:\\users\\ravin\\anaconda3\\lib\\site-packages (from textsearch>=0.0.21->contractions) (0.3.1)\n",
      "Requirement already satisfied: pyahocorasick in c:\\users\\ravin\\anaconda3\\lib\\site-packages (from textsearch>=0.0.21->contractions) (2.0.0)\n"
     ]
    },
    {
     "name": "stderr",
     "output_type": "stream",
     "text": [
      "[nltk_data] Downloading package wordnet to\n",
      "[nltk_data]     C:\\Users\\ravin\\AppData\\Roaming\\nltk_data...\n",
      "[nltk_data]   Package wordnet is already up-to-date!\n",
      "[nltk_data] Downloading package omw-1.4 to\n",
      "[nltk_data]     C:\\Users\\ravin\\AppData\\Roaming\\nltk_data...\n",
      "[nltk_data]   Package omw-1.4 is already up-to-date!\n"
     ]
    }
   ],
   "source": [
    "import nltk\n",
    "!pip install contractions\n",
    "import contractions\n",
    "nltk.download('wordnet')\n",
    "nltk.download('omw-1.4')\n",
    "import warnings\n",
    "warnings.filterwarnings(\"ignore\")"
   ]
  },
  {
   "cell_type": "markdown",
   "metadata": {
    "id": "zAxczUGVN-Jc"
   },
   "source": [
    "#### CSCE 670 :: Information Storage & Retrieval :: Texas A&M University :: Spring 2023\n",
    "\n",
    "\n",
    "# Homework 1:  Lyrical Search Engine\n",
    "\n",
    "### 100 points [9% of your final grade]\n",
    "\n",
    "### Due: February 10 (Friday) by 11:59pm\n",
    "\n",
    "*Goals of this homework:* In this homework you will get first hand experience building a text-based mini search engine. In particular, there are three main learning objectives: (i) the basics of tokenization (e.g. stemming, case-folding, etc.) and its effect on information retrieval; (ii) basics of index building and Boolean retrieval; and (iii) basics of the Vector Space model and ranked retrieval.\n",
    "\n",
    "*Submission instructions (eCampus):* To submit your homework, rename this notebook as `UIN_hw1.ipynb`. For example, my homework submission would be something like `555001234_hw1.ipynb`. Submit this notebook via eCampus (look for the homework 1 assignment there). Your notebook should be completely self-contained, with the results visible in the notebook. We should not have to run any code from the command line, nor should we have to run your code within the notebook (though we reserve the right to do so). So please run all the cells for us, and then submit.\n",
    "\n",
    "*Late submission policy:* For this homework, you may use as many late days as you like (up to the 5 total allotted to you).\n",
    "\n",
    "*Collaboration policy:* You are expected to complete each homework independently. Your solution should be written by you without the direct aid or help of anyone else. However, we believe that collaboration and team work are important for facilitating learning, so we encourage you to discuss problems and general problem approaches (but not actual solutions) with your classmates. You may post on Piazza, search StackOverflow, etc. But if you do get help in this way, you must inform us by **filling out the Collaboration Declarations at the bottom of this notebook**. \n",
    "\n",
    "*Example: I found helpful code on stackoverflow at https://stackoverflow.com/questions/11764539/writing-fizzbuzz that helped me solve Problem 2.*\n",
    "\n",
    "The basic rule is that no student should explicitly share a solution with another student (and thereby circumvent the basic learning process), but it is okay to share general approaches, directions, and so on. If you feel like you have an issue that needs clarification, feel free to contact either me or the TA."
   ]
  },
  {
   "cell_type": "markdown",
   "metadata": {
    "id": "9CKllFl-N-Jk"
   },
   "source": [
    "# Dataset: Genius Lyrics Dataset\n",
    "\n",
    "We are providing you with a small collection of the lyrics to 200 songs collected from Genius (https://genius.com/). The full data was originally collected by Austin Benson at Cornell (https://www.cs.cornell.edu/~arb/data/genius-expertise/). For this homework, you can use just the small set we provide: **lyrics_200.jl**. You should treat each song as a unique document to be indexed by your system. You can download the data from eCampus to your local filesystem. We're going to use these lyrics as the basis of a Lyrical Search Engine!"
   ]
  },
  {
   "cell_type": "markdown",
   "metadata": {
    "id": "DaiOjFANN-Jo"
   },
   "source": [
    "# Part 1: Read and Parse the Lyrics Data (20 points)"
   ]
  },
  {
   "cell_type": "markdown",
   "metadata": {
    "id": "VoiNbqQDrVQ2"
   },
   "source": [
    "Recall how we handled file input in Homework 0? Well, here, our goal is to read the lyrics so that we can begin to tokenize them later. For this step, you should read the dataset and print the lyrics. Note that our dataset is in JSON lines format, meaning that each line break separates an entry in JSON format. A document looks like:\n",
    "\n",
    "{'songs': 'Linkin-park-in-the-end-lyrics', 'lyrics': '\\n\\n[Verse 1: Mike Shinoda & Chester Bennington]\\nIt starts...'}\n",
    "\n",
    "For this homework, you should treat the lyrics as a document and the songs as the document ID.\n",
    "\n",
    "Your output should look like this:\n",
    "\n",
    "DocumentID Document\n",
    "\n",
    "Linkin-park-in-the-end-lyrics \\n\\n[Verse 1: Mike Shinoda & Chester Bennington]\\nIt starts...\n",
    "\n",
    "... ..."
   ]
  },
  {
   "cell_type": "code",
   "execution_count": 2,
   "metadata": {
    "id": "IfHGvybCysQK"
   },
   "outputs": [
    {
     "data": {
      "text/html": [
       "<div>\n",
       "<style scoped>\n",
       "    .dataframe tbody tr th:only-of-type {\n",
       "        vertical-align: middle;\n",
       "    }\n",
       "\n",
       "    .dataframe tbody tr th {\n",
       "        vertical-align: top;\n",
       "    }\n",
       "\n",
       "    .dataframe thead th {\n",
       "        text-align: right;\n",
       "    }\n",
       "</style>\n",
       "<table border=\"1\" class=\"dataframe\">\n",
       "  <thead>\n",
       "    <tr style=\"text-align: right;\">\n",
       "      <th></th>\n",
       "      <th>DocumentID</th>\n",
       "      <th>Document</th>\n",
       "    </tr>\n",
       "  </thead>\n",
       "  <tbody>\n",
       "    <tr>\n",
       "      <th>0</th>\n",
       "      <td>Erykah-badu-kiss-me-on-my-neck-lyrics</td>\n",
       "      <td>\\n\\n[Production by J Dilla, Erykah Badu, and J...</td>\n",
       "    </tr>\n",
       "    <tr>\n",
       "      <th>1</th>\n",
       "      <td>Daniel-caesar-we-find-love-lyrics</td>\n",
       "      <td>\\n\\n[Verse 1]\\nYou don't love me anymore\\nLet'...</td>\n",
       "    </tr>\n",
       "    <tr>\n",
       "      <th>2</th>\n",
       "      <td>Florence-the-machine-hunger-lyrics</td>\n",
       "      <td>\\n\\n[Intro]\\nOoh, ooh, ooh-ooh, ooh\\nOoh, ooh,...</td>\n",
       "    </tr>\n",
       "    <tr>\n",
       "      <th>3</th>\n",
       "      <td>Michael-jackson-will-you-be-there-lyrics</td>\n",
       "      <td>\\n\\n[Verse 1]\\nHold me\\nLike the River Jordan\\...</td>\n",
       "    </tr>\n",
       "    <tr>\n",
       "      <th>4</th>\n",
       "      <td>Partynextdoor-not-nice-lyrics</td>\n",
       "      <td>\\n\\n[Intro: PARTYNEXTDOOR]\\nOh-oh-oh-oh\\nOh-oh...</td>\n",
       "    </tr>\n",
       "  </tbody>\n",
       "</table>\n",
       "</div>"
      ],
      "text/plain": [
       "                                 DocumentID  \\\n",
       "0     Erykah-badu-kiss-me-on-my-neck-lyrics   \n",
       "1         Daniel-caesar-we-find-love-lyrics   \n",
       "2        Florence-the-machine-hunger-lyrics   \n",
       "3  Michael-jackson-will-you-be-there-lyrics   \n",
       "4             Partynextdoor-not-nice-lyrics   \n",
       "\n",
       "                                            Document  \n",
       "0  \\n\\n[Production by J Dilla, Erykah Badu, and J...  \n",
       "1  \\n\\n[Verse 1]\\nYou don't love me anymore\\nLet'...  \n",
       "2  \\n\\n[Intro]\\nOoh, ooh, ooh-ooh, ooh\\nOoh, ooh,...  \n",
       "3  \\n\\n[Verse 1]\\nHold me\\nLike the River Jordan\\...  \n",
       "4  \\n\\n[Intro: PARTYNEXTDOOR]\\nOh-oh-oh-oh\\nOh-oh...  "
      ]
     },
     "execution_count": 2,
     "metadata": {},
     "output_type": "execute_result"
    }
   ],
   "source": [
    "# your code here\n",
    "import pandas as pd\n",
    "import json\n",
    "import os\n",
    "\n",
    "def json_to_df(file_path):\n",
    "    data = []\n",
    "    with open(file_path, 'r', encoding=\"utf-8\") as f:\n",
    "        for line in f:\n",
    "            data.append(json.loads(line))\n",
    "    df = pd.DataFrame(data)\n",
    "    return df\n",
    "\n",
    "cur_dir = os.getcwd()\n",
    "#print(cur_dir)\n",
    "file_path = str(cur_dir) + '/lyrics_200.jl'\n",
    "df = json_to_df(file_path)\n",
    "col_names = ['DocumentID', 'Document']\n",
    "df.columns = col_names\n",
    "df.head()"
   ]
  },
  {
   "cell_type": "markdown",
   "metadata": {
    "id": "ax-juuk1zLuw"
   },
   "source": [
    "Now that you can read the documents, let's move on to tokenization. You should lowercase all words. Your parser needs to also provide the following three pre-processing options:\n",
    "1. Remove background vocals (strings in parentheses) and song structure indicators \n",
    "(strings in square brackets, e.g., [Verse 1: Mike Shinoda & Chester Bennington])\n",
    "2. Lemmatization: use nltk Lemmatizer `from nltk.stem import WordNetLemmatizer`\n",
    "3. Remove any other strings that you think are less informative or noisy, e.g., non-word vocal sounds, non-character.\n",
    "\n",
    "Please note that you should stick to the stemming package listed above. Otherwise, given the same query, the results generated by your code can be different from others. For tokenization, you could use [nltk.tokenize.word_tokenize](https://www.nltk.org/api/nltk.tokenize.html#module-nltk.tokenize) or you can write your own."
   ]
  },
  {
   "cell_type": "markdown",
   "metadata": {
    "id": "tst9U9DxN-Jp"
   },
   "source": [
    "## Observations (3 * 4 = 12 points)\n",
    "\n",
    "Once you have your parser working, you should \n",
    "\n",
    "* print the first two documents (documentID and tokens);\n",
    "\n",
    "* report the size of your dictionary, that is, how many unique tokens;\n",
    "\n",
    "* print a list of the top-10 most popular words by count;\n",
    "\n",
    "under the four cases:\n",
    "\n",
    "* None of pre-processing options (that is, just whatever nltk.tokenize.word_tokenize gives you)\n",
    "* (1) Remove background vocals\n",
    "* (1) + (2) Remove background vocals + Lemmatization\n",
    "* (1) + (2) + (3) Remove background vocals  + Lemmatization + Remove other\n",
    "\n",
    "Your output should look like this:\n",
    "\n",
    "* DocumentID Tokens\n",
    "\n",
    "* Unique token numbers:\n",
    "\n",
    "* Rank Token Count\n",
    "\n",
    "   1    awesome    20\n"
   ]
  },
  {
   "cell_type": "code",
   "execution_count": 3,
   "metadata": {
    "id": "B6Kk0ExbJBit"
   },
   "outputs": [
    {
     "name": "stdout",
     "output_type": "stream",
     "text": [
      "Press 0 for no pre-processing options\n",
      "Press 1 for Removing background vocals\n",
      "Press 2 for Removing background vocals and Lemmatization\n",
      "Press 3 for Removing background vocals, Lemmatization and Other unwanted strings\n",
      "Enter your option: 2\n"
     ]
    },
    {
     "data": {
      "text/html": [
       "<div>\n",
       "<style scoped>\n",
       "    .dataframe tbody tr th:only-of-type {\n",
       "        vertical-align: middle;\n",
       "    }\n",
       "\n",
       "    .dataframe tbody tr th {\n",
       "        vertical-align: top;\n",
       "    }\n",
       "\n",
       "    .dataframe thead th {\n",
       "        text-align: right;\n",
       "    }\n",
       "</style>\n",
       "<table border=\"1\" class=\"dataframe\">\n",
       "  <thead>\n",
       "    <tr style=\"text-align: right;\">\n",
       "      <th></th>\n",
       "      <th>DocumentID</th>\n",
       "      <th>Document</th>\n",
       "    </tr>\n",
       "  </thead>\n",
       "  <tbody>\n",
       "    <tr>\n",
       "      <th>0</th>\n",
       "      <td>Erykah-badu-kiss-me-on-my-neck-lyrics</td>\n",
       "      <td>[production by j dilla, erykah badu, and jam...</td>\n",
       "    </tr>\n",
       "    <tr>\n",
       "      <th>1</th>\n",
       "      <td>Daniel-caesar-we-find-love-lyrics</td>\n",
       "      <td>[verse 1] you don't love me anymore let's se...</td>\n",
       "    </tr>\n",
       "    <tr>\n",
       "      <th>2</th>\n",
       "      <td>Florence-the-machine-hunger-lyrics</td>\n",
       "      <td>[intro] ooh, ooh, ooh-ooh, ooh ooh, ooh, ooh...</td>\n",
       "    </tr>\n",
       "    <tr>\n",
       "      <th>3</th>\n",
       "      <td>Michael-jackson-will-you-be-there-lyrics</td>\n",
       "      <td>[verse 1] hold me like the river jordan and ...</td>\n",
       "    </tr>\n",
       "    <tr>\n",
       "      <th>4</th>\n",
       "      <td>Partynextdoor-not-nice-lyrics</td>\n",
       "      <td>[intro: partynextdoor] oh-oh-oh-oh oh-oh-oh-...</td>\n",
       "    </tr>\n",
       "  </tbody>\n",
       "</table>\n",
       "</div>"
      ],
      "text/plain": [
       "                                 DocumentID  \\\n",
       "0     Erykah-badu-kiss-me-on-my-neck-lyrics   \n",
       "1         Daniel-caesar-we-find-love-lyrics   \n",
       "2        Florence-the-machine-hunger-lyrics   \n",
       "3  Michael-jackson-will-you-be-there-lyrics   \n",
       "4             Partynextdoor-not-nice-lyrics   \n",
       "\n",
       "                                            Document  \n",
       "0    [production by j dilla, erykah badu, and jam...  \n",
       "1    [verse 1] you don't love me anymore let's se...  \n",
       "2    [intro] ooh, ooh, ooh-ooh, ooh ooh, ooh, ooh...  \n",
       "3    [verse 1] hold me like the river jordan and ...  \n",
       "4    [intro: partynextdoor] oh-oh-oh-oh oh-oh-oh-...  "
      ]
     },
     "execution_count": 3,
     "metadata": {},
     "output_type": "execute_result"
    }
   ],
   "source": [
    "# Your parser function here. It will take the three option variables above as the parameters.\n",
    "from nltk.stem import WordNetLemmatizer\n",
    "from nltk.tokenize import word_tokenize\n",
    "import re\n",
    "df['Document'] = df['Document'].str.lower()\n",
    "df['Document'] = df['Document'].str.replace(\"\\n\", \" \")\n",
    "print(\"Press 0 for no pre-processing options\")\n",
    "print(\"Press 1 for Removing background vocals\")\n",
    "print(\"Press 2 for Removing background vocals and Lemmatization\")\n",
    "print(\"Press 3 for Removing background vocals, Lemmatization and Other unwanted strings\")\n",
    "# add cells as needed to organize your code\n",
    "option = int(input(\"Enter your option: \"))\n",
    "while option not in [0, 1, 2, 3]:\n",
    "    option = int(input(\"Wrong option, Enter your option again: \"))\n",
    "df.head()"
   ]
  },
  {
   "cell_type": "code",
   "execution_count": 4,
   "metadata": {},
   "outputs": [
    {
     "name": "stderr",
     "output_type": "stream",
     "text": [
      "[nltk_data] Downloading package stopwords to\n",
      "[nltk_data]     C:\\Users\\ravin\\AppData\\Roaming\\nltk_data...\n",
      "[nltk_data]   Package stopwords is already up-to-date!\n"
     ]
    }
   ],
   "source": [
    "# Useful Imports and Functions\n",
    "import re\n",
    "import string\n",
    "import nltk\n",
    "from nltk.corpus import stopwords\n",
    "from nltk.stem import WordNetLemmatizer\n",
    "wordnet_lemmatizer = WordNetLemmatizer()\n",
    "\n",
    "nltk.download('stopwords')\n",
    "stop_words = set(stopwords.words('english'))\n",
    "\n",
    "punctuation = ['!', '#', \"'\", '\"', '$', '%', '&', '*', '+', ',', '-', '.', '/', ':', ';', '<', '=', '>', '?', '@', '\\\\', '^', '_', '`', '{', '|', '}', '~']\n",
    "\n",
    "def remove_bgvocals(text):\n",
    "    return re.sub(r'[\\[\\(].*?[\\)\\]]', '', text)\n",
    "\n",
    "def remove_punctuation(words):\n",
    "    no_punct = []\n",
    "    #words = words.split()\n",
    "    for word in words:\n",
    "        no_punct_word = \"\"\n",
    "        for char in word:\n",
    "            if char not in punctuation:\n",
    "                no_punct_word += char\n",
    "        if no_punct_word.isalpha():\n",
    "            no_punct.append(no_punct_word)\n",
    "    return no_punct\n",
    "\n",
    "def remove_stop_words(wordlist):\n",
    "    return [word for word in wordlist if word.lower() not in stop_words]\n",
    "\n",
    "def lemmatize_words(wordlist):\n",
    "    return [wordnet_lemmatizer.lemmatize(word) for word in wordlist]"
   ]
  },
  {
   "cell_type": "markdown",
   "metadata": {
    "id": "hv6QtgLIHUgL"
   },
   "source": [
    "#### None of Pre-processing Options"
   ]
  },
  {
   "cell_type": "code",
   "execution_count": 5,
   "metadata": {
    "id": "WcJbBEQgJUd8"
   },
   "outputs": [],
   "source": [
    "# your code and output here\n",
    "tokens = []\n",
    "if option == 0:\n",
    "    for string in df['Document']:\n",
    "        words = word_tokenize(string)\n",
    "        tokens.append(words)\n",
    "    df['Tokens'] = tokens\n",
    "    final_dict = [word for words in tokens for word in words]"
   ]
  },
  {
   "cell_type": "markdown",
   "metadata": {
    "id": "kxjPoaWUIFkx"
   },
   "source": [
    "### (1) Remove background vocals"
   ]
  },
  {
   "cell_type": "code",
   "execution_count": 6,
   "metadata": {
    "id": "uDbliiXUILHo"
   },
   "outputs": [],
   "source": [
    "# your code and output here\n",
    "tokens = []\n",
    "if option == 1:\n",
    "    df['Document'] = df['Document'].apply(remove_bgvocals) #Remove BgVocals\n",
    "    for string in df['Document']:\n",
    "        expanded_words = []   \n",
    "        for word in string.split():\n",
    "            expanded_words.append(contractions.fix(word)) #Expand Words (taking care of contractions)\n",
    "        expanded_text = ' '.join(expanded_words)\n",
    "        words = word_tokenize(expanded_text)\n",
    "        tokens.append(words)\n",
    "    df['Tokens'] = tokens\n",
    "    final_dict = [word for words in tokens for word in words]"
   ]
  },
  {
   "cell_type": "markdown",
   "metadata": {
    "id": "3JnT2kepITqG"
   },
   "source": [
    "### (1) + (2) Remove background vocals + Lemmatization"
   ]
  },
  {
   "cell_type": "code",
   "execution_count": 7,
   "metadata": {
    "id": "IulY8NZuIep8"
   },
   "outputs": [],
   "source": [
    "# your code and output here\n",
    "import nltk\n",
    "from nltk.stem import WordNetLemmatizer \n",
    "lemmatizer = WordNetLemmatizer()\n",
    "tokens = []\n",
    "if option == 2:\n",
    "    df['Document'] = df['Document'].apply(remove_bgvocals) #Remove BgVocals\n",
    "    for string in df['Document']:\n",
    "        expanded_words = []   \n",
    "        for word in string.split():\n",
    "            expanded_words.append(contractions.fix(word)) #Expand Words (taking care of contractions)\n",
    "        expanded_text = ' '.join(expanded_words)\n",
    "        words = word_tokenize(expanded_text)\n",
    "        tokens.append(words)\n",
    "    df['Tokens'] = tokens  \n",
    "    df['Tokens'] = df['Tokens'].apply(lemmatize_words) #lemmatize\n",
    "    dictionary = df.Tokens.tolist()\n",
    "    final_dict = [word for words in dictionary for word in words]\n",
    "    len(final_dict)"
   ]
  },
  {
   "cell_type": "markdown",
   "metadata": {
    "id": "oOKY3uUuIjd4"
   },
   "source": [
    "### (1) + (2) + (3) Remove background vocals  + Lemmatization + Remove other"
   ]
  },
  {
   "cell_type": "code",
   "execution_count": 8,
   "metadata": {
    "id": "D76gCFlVItyd"
   },
   "outputs": [],
   "source": [
    "tokens = []\n",
    "if option == 3:\n",
    "    df['Document'] = df['Document'].apply(remove_bgvocals) #Remove BgVocals\n",
    "    for string in df['Document']:\n",
    "        expanded_words = []   \n",
    "        for word in string.split():\n",
    "            expanded_words.append(contractions.fix(word)) #Expand Words (taking care of contractions)\n",
    "        expanded_text = ' '.join(expanded_words)\n",
    "        words = word_tokenize(expanded_text)\n",
    "        tokens.append(words)     \n",
    "    df['Tokens'] = tokens  \n",
    "    df['Tokens'] = df['Tokens'].apply(lemmatize_words) #lemmatize\n",
    "    df['Tokens'] = df['Tokens'].apply(remove_punctuation) #Remove Punctuation\n",
    "    df['Tokens'] = df['Tokens'].apply(remove_stop_words) #Remove Stop Words\n",
    "    dictionary = df.Tokens.tolist()\n",
    "    final_dict = [word for words in dictionary for word in words]\n",
    "    len(final_dict)"
   ]
  },
  {
   "cell_type": "code",
   "execution_count": 9,
   "metadata": {},
   "outputs": [
    {
     "name": "stdout",
     "output_type": "stream",
     "text": [
      "OUTPUT\n",
      "===========================================================================================================\n",
      "Document id : Erykah-badu-kiss-me-on-my-neck-lyrics\n",
      "Tokens: ['i', 'want', 'somebody', 'to', 'walk', 'up', 'behind', 'me', 'and', 'kiss', 'me', 'on', 'my', 'neck', 'and', 'breathe', 'on', 'my', 'neck', 'i', 'want', 'somebody', 'to', 'walk', 'up', 'behind', 'me', 'and', 'kiss', 'me', 'on', 'my', 'neck', 'and', 'breathe', 'on', 'my', 'neck', 'been', 'such', 'a', 'long', 'time', 'i', 'forgot', 'that', 'i', 'wa', 'fine', 'just', 'kiss', 'me', 'on', 'my', 'neck', 'and', 'breathe', 'on', 'my', 'neck', 'i', 'want', 'somebody', 'to', 'walk', 'up', 'behind', 'me', 'and', 'kiss', 'me', 'on', 'my', 'neck', 'and', 'breathe', 'on', 'my', 'neck', 'if', 'you', 'want', 'to', 'feel', 'me', 'better', 'be', 'divine', 'bring', 'me', 'water', ',', 'water', 'for', 'my', 'mind', 'give', 'me', 'nothing', 'breathe', 'love', 'in', 'my', 'air', 'do', 'not', 'abuse', 'me', 'because', 'these', 'herb', 'are', 'rare', 'if', 'you', 'want', 'to', 'feel', 'me', 'better', 'be', 'divine', 'bring', 'me', 'water', ',', 'water', 'for', 'my', 'mind', 'give', 'me', 'nothing', 'breathe', 'love', 'in', 'my', 'air', 'do', 'not', 'abuse', 'me', 'because', 'these', 'herb', 'are', 'rare', 'if', 'you', 'want', 'to', 'feel', 'me', 'baby', 'better', 'be', 'divine', 'bring', 'me', 'water', 'for', 'these', 'flower', 'growing', 'out', 'my', 'mind', 'give', 'me', 'nothing', 'just', 'be', 'gentle', 'breathe', 'love', 'in', 'my', 'air', 'use', 'me', ',', 'do', 'not', 'abuse', 'me', ',', 'love', 'me', 'because', 'these', 'herb', 'are', 'rare', 'if', 'you', 'want', 'to', 'feel', 'me', 'better', 'be', 'divine', 'bring', 'me', 'water', ',', 'water', 'for', 'my', 'mind', 'give', 'me', 'nothing', 'breathe', 'love', 'in', 'my', 'air', 'do', 'not', 'abuse', 'me', 'because', 'these', 'herb', 'are', 'rare', 'if', 'you', 'want', 'to', 'feel', 'me', 'better', 'be', 'divine', 'bring', 'me', 'water', ',', 'water', 'for', 'my', 'mind', 'give', 'me', 'nothing', 'breathe', 'love', 'in', 'my', 'air', 'do', 'not', 'abuse', 'me', 'because', 'these', 'herb', 'are', 'rare', 'if', 'you', 'want', 'to', 'feel', 'me', 'better', 'be', 'divine', 'bring', 'me', 'water', ',', 'water', 'for', 'my', 'mind', 'give', 'me', 'nothing', 'breathe', 'love', 'in', 'my', 'air', 'do', 'not', 'abuse', 'me', 'because', 'these', 'herb', 'are', 'rare', 'i', 'want', 'somebody', 'to', 'walk', 'up', 'behind', 'me', 'and', 'kiss', 'me', 'on', 'my', 'neck', 'and', 'breathe', 'on', 'my', 'neck', 'i', 'want', 'somebody', 'to', 'walk', 'up', 'behind', 'me', 'and', 'kiss', 'me', 'on', 'my', 'neck', 'and', 'breathe', 'on', 'my', 'neck', 'been', 'such', 'a', 'long', 'time', 'i', 'forgot', 'that', 'i', 'wa', 'fine', 'just', 'kiss', 'me', 'on', 'my', 'neck', 'and', 'breathe', 'on', 'my', 'neck', 'i', 'want', 'somebody', 'to', 'walk', 'up', 'behind', 'me', 'and', 'kiss', 'me', 'on', 'my', 'neck', 'and', 'breathe', 'on', 'my', 'neck']\n",
      "===========================================================================================================\n",
      "Document id : Daniel-caesar-we-find-love-lyrics\n",
      "Tokens: ['you', 'do', 'not', 'love', 'me', 'anymore', 'let', 'u', 'see', 'how', 'you', 'like', 'this', 'song', 'see', 'you', 'walking', 'out', 'that', 'door', 'wonder', 'why', 'it', 'took', 'you', 'so', 'long', 'ever', 'since', 'the', 'day', 'that', 'i', 'met', 'you', 'i', 'knew', 'you', 'were', 'the', 'girl', 'of', 'my', 'dream', 'but', 'we', 'could', 'never', 'be', 'you', 'do', 'not', 'love', 'me', 'anymore', 'let', 'u', 'see', 'how', 'you', 'like', 'this', 'song', 'we', 'find', 'love', ',', 'we', 'get', 'up', 'then', 'we', 'fall', 'down', ',', 'we', 'give', 'up', 'we', 'find', 'love', ',', 'we', 'get', 'up', 'then', 'we', 'fall', 'down', ',', 'we', 'give', 'up', 'you', 'do', 'not', 'love', 'me', 'anymore', 'let', 'u', 'see', 'how', 'you', 'like', 'this', 'song', 'you', 'need', 'someone', 'you', 'adore', 'find', 'a', 'place', 'where', 'you', 'might', 'belong', 'ever', 'since', 'the', 'day', 'that', 'i', 'met', 'you', 'my', 'world', \"'s\", 'been', 'spinnin', \"'\", 'out', 'of', 'control', 'i', 'just', 'need', 'you', 'to', 'hold', 'we', 'knew', 'it', 'would', 'come', 'around', 'this', 'thing', 'called', 'love', 'come', 'crashing', 'down', ',', 'ahh', 'piece', 'all', 'on', 'the', 'ground', 'what', 'once', 'wa', 'lost', 'can', 'not', 'be', 'found', ',', 'ahh', 'we', 'knew', 'it', 'would', 'come', 'around', 'this', 'thing', 'called', 'love', 'come', 'crashing', 'down', ',', 'ahh', 'piece', 'all', 'on', 'the', 'ground', 'what', 'once', 'wa', 'lost', 'can', 'not', 'be', 'found', ',', 'ahh', 'we', 'knew', 'it', 'would', 'come', 'around', 'this', 'thing', 'called', 'love', 'come', 'crashing', 'down', ',', 'ahh', 'piece', 'all', 'on', 'the', 'ground', 'what', 'once', 'wa', 'lost', 'can', 'not', 'be', 'found', ',', 'ahh', 'heaven', 'help', 'u', ',', 'heaven', 'help', 'u', ',', 'yeah', 'we', 'are', 'on', 'our', 'own', 'we', 'find', 'love', ',', 'we', 'get', 'up', 'then', 'we', 'fall', 'down', ',', 'we', 'give', 'up', 'we', 'find', 'love', ',', 'we', 'get', 'up', 'then', 'we', 'fall', 'down', ',', 'we', 'give', 'up', 'we', 'find', 'love', ',', 'we', 'get', 'up', 'then', 'we', 'fall', 'down', ',', 'we', 'give', 'up', 'we', 'find', 'love', ',', 'yeah', ',', 'we', 'get', 'up', 'we', 'fall', 'down', ',', 'we', 'give', 'up']\n",
      "===========================================================================================================\n",
      "Size of Dictionary is : 4423\n",
      "Top 10 words along with their frequency:  [(',', 4611), ('i', 3389), ('you', 2842), ('the', 2350), ('to', 1594), ('and', 1304), ('me', 1195), ('not', 1179), ('a', 1162), ('it', 1151)]\n"
     ]
    }
   ],
   "source": [
    "from collections import Counter\n",
    "print(\"OUTPUT\")\n",
    "print(\"===========================================================================================================\")\n",
    "print(\"Document id : {}\\nTokens: {}\".format(df.DocumentID[0], df.Tokens[0]))\n",
    "print(\"===========================================================================================================\")\n",
    "print(\"Document id : {}\\nTokens: {}\".format(df.DocumentID[1], df.Tokens[1]))\n",
    "word_frequency = Counter(final_dict)\n",
    "sorted_word_frequency = sorted(word_frequency.items(), key=lambda x: x[1], reverse=True)\n",
    "print(\"===========================================================================================================\")\n",
    "print(\"Size of Dictionary is :\", len(sorted_word_frequency))\n",
    "print(\"Top 10 words along with their frequency: \", sorted_word_frequency[:10])"
   ]
  },
  {
   "cell_type": "markdown",
   "metadata": {
    "id": "goyeyYtcDAnj"
   },
   "source": [
    "## Zipf's Law (8 points)\n",
    "Recall in class our discussion of Zipf's law. Let's see if this law applies to our Genius Lyrics. You should use matplotlib to plot the log-base10 term counts on the y-axis versus the log-base10 rank on the x-axis. Your aim is to create a figure like the one in Figure 5.2 of the textbook."
   ]
  },
  {
   "cell_type": "code",
   "execution_count": 10,
   "metadata": {
    "id": "TOOwjhLzDf5q"
   },
   "outputs": [
    {
     "data": {
      "image/png": "[encoded data removed]",
      "text/plain": [
       "<Figure size 640x480 with 1 Axes>"
      ]
     },
     "metadata": {},
     "output_type": "display_data"
    }
   ],
   "source": [
    "# your code here\n",
    "from collections import Counter\n",
    "import matplotlib.pyplot as plt\n",
    "import numpy as np\n",
    "\n",
    "def zipf_law(words):\n",
    "    word_frequency = Counter(words)\n",
    "    sorted_word_frequency = sorted(word_frequency.items(), key=lambda x: x[1], reverse=True)\n",
    "    rank = np.array([i+1 for i in range(len(sorted_word_frequency))])\n",
    "    frequency = np.array([x[1] for x in sorted_word_frequency])\n",
    "\n",
    "    plt.loglog(rank, frequency, marker=\"o\")\n",
    "    plt.xscale(\"log\")\n",
    "    plt.yscale(\"log\")\n",
    "    plt.xlabel(\"log(Rank)\")\n",
    "    plt.ylabel(\"log(Frequency)\")\n",
    "    plt.title(\"Zipf's Law for words in text\")\n",
    "    plt.show()\n",
    "\n",
    "zipf_law(final_dict)\n",
    "doc_dict = set(final_dict)\n",
    "doc_dict = list(doc_dict)\n",
    "doc_dict.sort()"
   ]
  },
  {
   "cell_type": "markdown",
   "metadata": {
    "id": "ks3jMhkLzzoK"
   },
   "source": [
    "What do you observe? Explain.  \n",
    "\n",
    "Zipf's law states that the frequency of a word in a text corpus is proportional to its rank in the frequency table of the corpus, with the most frequent word having a rank of 1. This means that the most frequent word in a corpus is likely to be much more common than the second most frequent word, which is in turn much more common than the third most frequent word, and so on.  \n",
    "From the above plot, we can observe a slope that decreases linearly from left to right. This slope represents the power-law relationship between frequency and rank. The steeper the slope, the stronger the relationship. As the slope is close to -1, this means that the frequency of elements decreases very rapidly as their rank increases."
   ]
  },
  {
   "cell_type": "markdown",
   "metadata": {
    "id": "lcrFD2F-N-Jp"
   },
   "source": [
    "# Part 2: Boolean Retrieval (30 points)\n",
    "\n",
    "In this part you will build an inverted index to support Boolean retrieval. You should use the (1) + (2) tokenization strategy from above (Remove background vocals + Lemmatization). \n",
    "\n",
    "We only require your index to support AND queries. In other words, your index does not have to support OR, NOT, or parentheses. Also, we do not explicitly expect to see AND in queries, e.g., when we query **relational model**, your search engine should treat it as **relational** AND **model**.\n",
    "\n",
    "Search for the queries below using your index and print out matching documents (for each query, print out 5 matching documents):\n",
    "* time\n",
    "* never know\n",
    "* make no sense\n",
    "\n",
    "Recall, that you should apply the exact same pre-processing strategies to the query as we do to the documents. \n",
    "\n",
    "The output should like this:\n",
    "* DocumentID Document\n",
    "\n",
    "To make our life easier, please output the DocumentIDs in alphabetical order."
   ]
  },
  {
   "cell_type": "code",
   "execution_count": 11,
   "metadata": {},
   "outputs": [],
   "source": [
    "from collections import defaultdict\n",
    "\n",
    "class InvertedIndex: \n",
    "    def __init__(self):\n",
    "        self.index = defaultdict(list)\n",
    "\n",
    "    def add_document(self, doc_id, terms):\n",
    "        for term in set(terms):\n",
    "            self.index[term].append(doc_id)\n",
    "    \n",
    "    def search(self, query):\n",
    "        terms = query.split()\n",
    "        results = None\n",
    "\n",
    "        for term in terms:\n",
    "            if term not in self.index:\n",
    "                return []\n",
    "            if results is None:\n",
    "                results = set(self.index[term])\n",
    "            else:\n",
    "                results &= set(self.index[term])\n",
    "                \n",
    "        results = list(results)\n",
    "        results.sort()\n",
    "        return results\n",
    "\n",
    "index = InvertedIndex()\n",
    "\n",
    "# Add all documents to the index\n",
    "for i in range(len(df)):\n",
    "    index.add_document(df['DocumentID'][i], df['Tokens'][i])"
   ]
  },
  {
   "cell_type": "code",
   "execution_count": 12,
   "metadata": {
    "id": "GS3Tc_kYN-Jp"
   },
   "outputs": [],
   "source": [
    "import pandas as pd\n",
    "\n",
    "# list of words to query\n",
    "query = [\"time\", \"never know\", \"make no sense\"]\n",
    "queries = []\n",
    "\n",
    "# Perform remove bg vocals and lemmatization\n",
    "for q in query:\n",
    "    q = remove_bgvocals(q)\n",
    "    q = list(q.split())\n",
    "    q = lemmatize_words(q)\n",
    "    queries.append(q)\n",
    "queries\n",
    "\n",
    "# Function to build query from tokens to search\n",
    "def combine_words_for_and_query(words):\n",
    "    return \" \".join(words)\n",
    "\n",
    "search_queries = []\n",
    "for query in queries:\n",
    "    search_queries.append(combine_words_for_and_query(query))"
   ]
  },
  {
   "cell_type": "markdown",
   "metadata": {
    "id": "OsA7pR87LnE3"
   },
   "source": [
    "Now show the results for the query: `time`"
   ]
  },
  {
   "cell_type": "code",
   "execution_count": 13,
   "metadata": {
    "id": "qWH8h5ZkN-Jp"
   },
   "outputs": [
    {
     "name": "stdout",
     "output_type": "stream",
     "text": [
      "5 docs in alphabetical order for Query: time\n",
      "['5-seconds-of-summer-close-as-strangers-lyrics', 'Alessia-cara-outlaws-lyrics', 'Alicia-keys-fallin-lyrics', 'Alicia-keys-no-one-lyrics', 'Anitta-goals-lyrics']\n"
     ]
    }
   ],
   "source": [
    "#Top 5 results for Query1\n",
    "print(\"5 docs in alphabetical order for Query: {}\\n{}\".format(search_queries[0], index.search(search_queries[0])[:5]))"
   ]
  },
  {
   "cell_type": "markdown",
   "metadata": {
    "id": "SbJ6yn3yMQWY"
   },
   "source": [
    "Now show the results for the query: `never know`\n"
   ]
  },
  {
   "cell_type": "code",
   "execution_count": 14,
   "metadata": {
    "id": "SmF62rQ_MRlO"
   },
   "outputs": [
    {
     "name": "stdout",
     "output_type": "stream",
     "text": [
      "5 docs in alphabetical order for Query: never know\n",
      "['2pac-u-r-ripping-us-apart-dedicated-2-crack-annotated', '5-seconds-of-summer-heartbreak-girl-lyrics', 'Alessia-cara-outlaws-lyrics', 'Alessia-cara-the-other-side-lyrics', 'Allie-x-sunflower-synth-reprise-lyrics']\n"
     ]
    }
   ],
   "source": [
    "#Top 5 results for Query2\n",
    "print(\"5 docs in alphabetical order for Query: {}\\n{}\".format(search_queries[1], index.search(search_queries[1])[:5]))"
   ]
  },
  {
   "cell_type": "markdown",
   "metadata": {
    "id": "y8KlaH0fMTO5"
   },
   "source": [
    "Now show the results for the query: `make no sense`"
   ]
  },
  {
   "cell_type": "code",
   "execution_count": 15,
   "metadata": {
    "id": "MAFBtPGmMVRW"
   },
   "outputs": [
    {
     "name": "stdout",
     "output_type": "stream",
     "text": [
      "5 docs in alphabetical order for Query: make no sense\n",
      "['Bring-me-the-horizon-mother-tongue-lyrics', 'Devlin-all-along-the-watchtower-lyrics', 'Florence-the-machine-all-this-and-heaven-too-lyrics', 'Kid-cudi-ghost-lyrics', 'Linkin-park-one-step-closer-lyrics']\n"
     ]
    }
   ],
   "source": [
    "#Top 5 results for Query3\n",
    "print(\"5 docs in alphabetical order for Query: {}\\n{}\".format(search_queries[2], index.search(search_queries[2])[:5]))"
   ]
  },
  {
   "cell_type": "markdown",
   "metadata": {
    "id": "IAhHuIDfN-Jp"
   },
   "source": [
    "## Observations (6 points)\n",
    "Could your boolean search engine find relevant documents for these queries? What is the impact of the pre-processing options? Do they improve your search quality?"
   ]
  },
  {
   "cell_type": "markdown",
   "metadata": {
    "id": "UX6k-Vil0GIy"
   },
   "source": [
    "Yes, a boolean search engine can find relevant documents for queries by using the inverted index to efficiently locate documents that match the query terms.  \n",
    "\n",
    "The impact of pre-processing options such as lemmatization can greatly improve the quality of the search results in a boolean retrieval system. By reducing words to their base form, lemmatization can make it easier for the search engine to match query terms with terms in the documents, as well as reduce the size of the index. This can lead to more relevant results, as well as faster and more efficient searches.  \n",
    "\n",
    "Pre-processing options improved the search quality by reducing the noise in the index and making the search more focused on the meaningful terms in the query and documents.  "
   ]
  },
  {
   "cell_type": "markdown",
   "metadata": {
    "id": "k8c7A4nuN-Jp"
   },
   "source": [
    "# Part 3: Ranking Documents (40 points) \n",
    "\n",
    "In this part, your job is to rank the documents rather than just provide set-based results as in Boolean Retrieval.\n",
    "\n",
    "### A: Ranking with simple sums of TF-IDF scores (10 points) \n",
    "For a multi-word query, we rank documents by a simple sum of the TF-IDF scores for the query terms in the document.\n",
    "TF is the log-weighted term frequency $1+log(tf)$; and IDF is the log-weighted inverse document frequency $log(\\frac{N}{df})$\n",
    "\n",
    "**Output:**\n",
    "You should output the top-5 results plus the TF-IDF sum score of each of these documents. \n",
    "\n",
    "The output should be like this:\n",
    "\n",
    "Rank Scores DocumentID Document "
   ]
  },
  {
   "cell_type": "code",
   "execution_count": 16,
   "metadata": {},
   "outputs": [],
   "source": [
    "import math\n",
    "\n",
    "# Search number of times a term appears in document\n",
    "def term_frequency(document, term):\n",
    "    return 1 + math.log(document.count(term))/math.log(10)\n",
    "\n",
    "# Counts number of rows a term appear in Tokens\n",
    "def count_rows(df, term):\n",
    "    return sum([1 for row in df['Tokens'] if term in row])\n",
    "\n",
    "# Return inverted index of a term\n",
    "def idf(term, df):\n",
    "    if count_rows(df, term) == 0:\n",
    "        return 0\n",
    "    else:\n",
    "        return math.log(len(df)/count_rows(df, term))/math.log(10)\n"
   ]
  },
  {
   "cell_type": "markdown",
   "metadata": {
    "id": "F-ESKUvzkQ1R"
   },
   "source": [
    "Now show the results for the query: `time`"
   ]
  },
  {
   "cell_type": "code",
   "execution_count": 17,
   "metadata": {
    "id": "SK68cvtDN-Js"
   },
   "outputs": [
    {
     "data": {
      "text/html": [
       "<div>\n",
       "<style scoped>\n",
       "    .dataframe tbody tr th:only-of-type {\n",
       "        vertical-align: middle;\n",
       "    }\n",
       "\n",
       "    .dataframe tbody tr th {\n",
       "        vertical-align: top;\n",
       "    }\n",
       "\n",
       "    .dataframe thead th {\n",
       "        text-align: right;\n",
       "    }\n",
       "</style>\n",
       "<table border=\"1\" class=\"dataframe\">\n",
       "  <thead>\n",
       "    <tr style=\"text-align: right;\">\n",
       "      <th></th>\n",
       "      <th>DocumentID</th>\n",
       "      <th>Document</th>\n",
       "      <th>Tokens</th>\n",
       "      <th>Query_Score</th>\n",
       "      <th>Rank</th>\n",
       "    </tr>\n",
       "  </thead>\n",
       "  <tbody>\n",
       "    <tr>\n",
       "      <th>0</th>\n",
       "      <td>Derek-minor-until-the-end-of-time-lyrics</td>\n",
       "      <td>time is the fourth dimension and a measure ...</td>\n",
       "      <td>[time, is, the, fourth, dimension, and, a, mea...</td>\n",
       "      <td>0.997799</td>\n",
       "      <td>1.0</td>\n",
       "    </tr>\n",
       "    <tr>\n",
       "      <th>1</th>\n",
       "      <td>John-legend-for-the-first-time-lyrics</td>\n",
       "      <td>is that music in my ear it's like i heard...</td>\n",
       "      <td>[is, that, music, in, my, ear, it, is, like, i...</td>\n",
       "      <td>0.938886</td>\n",
       "      <td>2.0</td>\n",
       "    </tr>\n",
       "    <tr>\n",
       "      <th>2</th>\n",
       "      <td>Method-man-if-time-is-money-fly-navigation-lyrics</td>\n",
       "      <td>uh, yeah choose a side   look, vibe with me...</td>\n",
       "      <td>[uh, ,, yeah, choose, a, side, look, ,, vibe, ...</td>\n",
       "      <td>0.900474</td>\n",
       "      <td>3.0</td>\n",
       "    </tr>\n",
       "    <tr>\n",
       "      <th>3</th>\n",
       "      <td>Linkin-park-from-the-inside-lyrics</td>\n",
       "      <td>i don't know who to trust, no surprise ever...</td>\n",
       "      <td>[i, do, not, know, who, to, trust, ,, no, surp...</td>\n",
       "      <td>0.810657</td>\n",
       "      <td>5.0</td>\n",
       "    </tr>\n",
       "    <tr>\n",
       "      <th>4</th>\n",
       "      <td>Partynextdoor-not-nice-lyrics</td>\n",
       "      <td>oh-oh-oh-oh oh-oh-oh-oh   you've got some v...</td>\n",
       "      <td>[oh-oh-oh-oh, oh-oh-oh-oh, you, have, got, som...</td>\n",
       "      <td>0.810657</td>\n",
       "      <td>5.0</td>\n",
       "    </tr>\n",
       "  </tbody>\n",
       "</table>\n",
       "</div>"
      ],
      "text/plain": [
       "                                          DocumentID  \\\n",
       "0           Derek-minor-until-the-end-of-time-lyrics   \n",
       "1              John-legend-for-the-first-time-lyrics   \n",
       "2  Method-man-if-time-is-money-fly-navigation-lyrics   \n",
       "3                 Linkin-park-from-the-inside-lyrics   \n",
       "4                      Partynextdoor-not-nice-lyrics   \n",
       "\n",
       "                                            Document  \\\n",
       "0     time is the fourth dimension and a measure ...   \n",
       "1       is that music in my ear it's like i heard...   \n",
       "2     uh, yeah choose a side   look, vibe with me...   \n",
       "3     i don't know who to trust, no surprise ever...   \n",
       "4     oh-oh-oh-oh oh-oh-oh-oh   you've got some v...   \n",
       "\n",
       "                                              Tokens  Query_Score  Rank  \n",
       "0  [time, is, the, fourth, dimension, and, a, mea...     0.997799   1.0  \n",
       "1  [is, that, music, in, my, ear, it, is, like, i...     0.938886   2.0  \n",
       "2  [uh, ,, yeah, choose, a, side, look, ,, vibe, ...     0.900474   3.0  \n",
       "3  [i, do, not, know, who, to, trust, ,, no, surp...     0.810657   5.0  \n",
       "4  [oh-oh-oh-oh, oh-oh-oh-oh, you, have, got, som...     0.810657   5.0  "
      ]
     },
     "execution_count": 17,
     "metadata": {},
     "output_type": "execute_result"
    }
   ],
   "source": [
    "# your code here\n",
    "#Get all relevant docs from boolean retrival\n",
    "query = search_queries[0]\n",
    "result = index.search(query)\n",
    "\n",
    "#Gives only those docs which are relevant\n",
    "filtered_df = df[df['DocumentID'].isin(result)]\n",
    "filtered_df['Query_Score'] = 0\n",
    "for term in query.split():\n",
    "    idf_score = float(idf(term, df))\n",
    "    filtered_df['Query_Score'] += filtered_df.apply(lambda row: term_frequency(row['Tokens'], term), axis=1)*idf_score\n",
    "filtered_df = filtered_df.sort_values(by=\"Query_Score\", ascending=False).reset_index(drop=True)\n",
    "filtered_df['Rank'] = filtered_df['Query_Score'].rank(ascending=False)\n",
    "filtered_df.head()"
   ]
  },
  {
   "cell_type": "markdown",
   "metadata": {
    "id": "gOpA6LgFkQ1S"
   },
   "source": [
    "Now show the results for the query: `never know`"
   ]
  },
  {
   "cell_type": "code",
   "execution_count": 18,
   "metadata": {
    "id": "TLik1D0VkQ1S"
   },
   "outputs": [
    {
     "data": {
      "text/html": [
       "<div>\n",
       "<style scoped>\n",
       "    .dataframe tbody tr th:only-of-type {\n",
       "        vertical-align: middle;\n",
       "    }\n",
       "\n",
       "    .dataframe tbody tr th {\n",
       "        vertical-align: top;\n",
       "    }\n",
       "\n",
       "    .dataframe thead th {\n",
       "        text-align: right;\n",
       "    }\n",
       "</style>\n",
       "<table border=\"1\" class=\"dataframe\">\n",
       "  <thead>\n",
       "    <tr style=\"text-align: right;\">\n",
       "      <th></th>\n",
       "      <th>DocumentID</th>\n",
       "      <th>Document</th>\n",
       "      <th>Tokens</th>\n",
       "      <th>Query_Score</th>\n",
       "      <th>Rank</th>\n",
       "    </tr>\n",
       "  </thead>\n",
       "  <tbody>\n",
       "    <tr>\n",
       "      <th>0</th>\n",
       "      <td>Skrillex-pretty-bye-bye-lyrics</td>\n",
       "      <td>i know you are trouble but i can't seem to ...</td>\n",
       "      <td>[i, know, you, are, trouble, but, i, can, not,...</td>\n",
       "      <td>1.295128</td>\n",
       "      <td>1.0</td>\n",
       "    </tr>\n",
       "    <tr>\n",
       "      <th>1</th>\n",
       "      <td>Derek-minor-until-the-end-of-time-lyrics</td>\n",
       "      <td>time is the fourth dimension and a measure ...</td>\n",
       "      <td>[time, is, the, fourth, dimension, and, a, mea...</td>\n",
       "      <td>1.145859</td>\n",
       "      <td>2.0</td>\n",
       "    </tr>\n",
       "    <tr>\n",
       "      <th>2</th>\n",
       "      <td>Billie-eilish-8-lyrics</td>\n",
       "      <td>wait a minute, let me finish i know you don...</td>\n",
       "      <td>[wait, a, minute, ,, let, me, finish, i, know,...</td>\n",
       "      <td>1.135649</td>\n",
       "      <td>3.0</td>\n",
       "    </tr>\n",
       "    <tr>\n",
       "      <th>3</th>\n",
       "      <td>Bring-me-the-horizon-mother-tongue-lyrics</td>\n",
       "      <td>i didn't see it coming  but i never really ...</td>\n",
       "      <td>[i, did, not, see, it, coming, but, i, never, ...</td>\n",
       "      <td>1.094982</td>\n",
       "      <td>4.0</td>\n",
       "    </tr>\n",
       "    <tr>\n",
       "      <th>4</th>\n",
       "      <td>Marilyn-manson-coma-black-lyrics</td>\n",
       "      <td>part i: eden eye   \"a loved one laid his hea...</td>\n",
       "      <td>[part, i, :, eden, eye, ``, a, loved, one, lai...</td>\n",
       "      <td>1.093421</td>\n",
       "      <td>5.0</td>\n",
       "    </tr>\n",
       "  </tbody>\n",
       "</table>\n",
       "</div>"
      ],
      "text/plain": [
       "                                  DocumentID  \\\n",
       "0             Skrillex-pretty-bye-bye-lyrics   \n",
       "1   Derek-minor-until-the-end-of-time-lyrics   \n",
       "2                     Billie-eilish-8-lyrics   \n",
       "3  Bring-me-the-horizon-mother-tongue-lyrics   \n",
       "4           Marilyn-manson-coma-black-lyrics   \n",
       "\n",
       "                                            Document  \\\n",
       "0     i know you are trouble but i can't seem to ...   \n",
       "1     time is the fourth dimension and a measure ...   \n",
       "2     wait a minute, let me finish i know you don...   \n",
       "3     i didn't see it coming  but i never really ...   \n",
       "4    part i: eden eye   \"a loved one laid his hea...   \n",
       "\n",
       "                                              Tokens  Query_Score  Rank  \n",
       "0  [i, know, you, are, trouble, but, i, can, not,...     1.295128   1.0  \n",
       "1  [time, is, the, fourth, dimension, and, a, mea...     1.145859   2.0  \n",
       "2  [wait, a, minute, ,, let, me, finish, i, know,...     1.135649   3.0  \n",
       "3  [i, did, not, see, it, coming, but, i, never, ...     1.094982   4.0  \n",
       "4  [part, i, :, eden, eye, ``, a, loved, one, lai...     1.093421   5.0  "
      ]
     },
     "execution_count": 18,
     "metadata": {},
     "output_type": "execute_result"
    }
   ],
   "source": [
    "# your code here\n",
    "query = search_queries[1]\n",
    "result = index.search(query)\n",
    "\n",
    "#Gives only those docs which are relevant\n",
    "filtered_df = df[df['DocumentID'].isin(result)]\n",
    "filtered_df['Query_Score'] = 0\n",
    "\n",
    "for term in query.split():\n",
    "    idf_score = float(idf(term, df))\n",
    "    filtered_df['Query_Score'] += filtered_df.apply(lambda row: term_frequency(row['Tokens'], term), axis=1)*idf_score\n",
    "filtered_df = filtered_df.sort_values(by=\"Query_Score\", ascending=False).reset_index(drop=True)\n",
    "filtered_df['Rank'] = filtered_df['Query_Score'].rank(ascending=False)\n",
    "filtered_df.head()"
   ]
  },
  {
   "cell_type": "markdown",
   "metadata": {
    "id": "ksB32YbUkQ1S"
   },
   "source": [
    "Now show the results for the query: `make no sense`"
   ]
  },
  {
   "cell_type": "code",
   "execution_count": 19,
   "metadata": {
    "id": "g81t_UrMkQ1S"
   },
   "outputs": [
    {
     "data": {
      "text/html": [
       "<div>\n",
       "<style scoped>\n",
       "    .dataframe tbody tr th:only-of-type {\n",
       "        vertical-align: middle;\n",
       "    }\n",
       "\n",
       "    .dataframe tbody tr th {\n",
       "        vertical-align: top;\n",
       "    }\n",
       "\n",
       "    .dataframe thead th {\n",
       "        text-align: right;\n",
       "    }\n",
       "</style>\n",
       "<table border=\"1\" class=\"dataframe\">\n",
       "  <thead>\n",
       "    <tr style=\"text-align: right;\">\n",
       "      <th></th>\n",
       "      <th>DocumentID</th>\n",
       "      <th>Document</th>\n",
       "      <th>Tokens</th>\n",
       "      <th>Query_Score</th>\n",
       "      <th>Rank</th>\n",
       "    </tr>\n",
       "  </thead>\n",
       "  <tbody>\n",
       "    <tr>\n",
       "      <th>0</th>\n",
       "      <td>Bring-me-the-horizon-mother-tongue-lyrics</td>\n",
       "      <td>i didn't see it coming  but i never really ...</td>\n",
       "      <td>[i, did, not, see, it, coming, but, i, never, ...</td>\n",
       "      <td>4.482244</td>\n",
       "      <td>1.0</td>\n",
       "    </tr>\n",
       "    <tr>\n",
       "      <th>1</th>\n",
       "      <td>Florence-the-machine-all-this-and-heaven-too-l...</td>\n",
       "      <td>and the heart is hard to translate it has a...</td>\n",
       "      <td>[and, the, heart, is, hard, to, translate, it,...</td>\n",
       "      <td>3.278860</td>\n",
       "      <td>2.0</td>\n",
       "    </tr>\n",
       "    <tr>\n",
       "      <th>2</th>\n",
       "      <td>Kid-cudi-ghost-lyrics</td>\n",
       "      <td>yeah, woah-woah, oh yeah, woah-woah, haha y...</td>\n",
       "      <td>[yeah, ,, woah-woah, ,, oh, yeah, ,, woah-woah...</td>\n",
       "      <td>3.085164</td>\n",
       "      <td>3.0</td>\n",
       "    </tr>\n",
       "    <tr>\n",
       "      <th>3</th>\n",
       "      <td>Linkin-park-one-step-closer-lyrics</td>\n",
       "      <td>i cannot take this anymore saying everythin...</td>\n",
       "      <td>[i, can, not, take, this, anymore, saying, eve...</td>\n",
       "      <td>3.050704</td>\n",
       "      <td>4.0</td>\n",
       "    </tr>\n",
       "    <tr>\n",
       "      <th>4</th>\n",
       "      <td>Devlin-all-along-the-watchtower-lyrics</td>\n",
       "      <td>there must be some way out of here said the...</td>\n",
       "      <td>[there, must, be, some, way, out, of, here, sa...</td>\n",
       "      <td>2.680610</td>\n",
       "      <td>5.0</td>\n",
       "    </tr>\n",
       "  </tbody>\n",
       "</table>\n",
       "</div>"
      ],
      "text/plain": [
       "                                          DocumentID  \\\n",
       "0          Bring-me-the-horizon-mother-tongue-lyrics   \n",
       "1  Florence-the-machine-all-this-and-heaven-too-l...   \n",
       "2                              Kid-cudi-ghost-lyrics   \n",
       "3                 Linkin-park-one-step-closer-lyrics   \n",
       "4             Devlin-all-along-the-watchtower-lyrics   \n",
       "\n",
       "                                            Document  \\\n",
       "0     i didn't see it coming  but i never really ...   \n",
       "1     and the heart is hard to translate it has a...   \n",
       "2     yeah, woah-woah, oh yeah, woah-woah, haha y...   \n",
       "3     i cannot take this anymore saying everythin...   \n",
       "4     there must be some way out of here said the...   \n",
       "\n",
       "                                              Tokens  Query_Score  Rank  \n",
       "0  [i, did, not, see, it, coming, but, i, never, ...     4.482244   1.0  \n",
       "1  [and, the, heart, is, hard, to, translate, it,...     3.278860   2.0  \n",
       "2  [yeah, ,, woah-woah, ,, oh, yeah, ,, woah-woah...     3.085164   3.0  \n",
       "3  [i, can, not, take, this, anymore, saying, eve...     3.050704   4.0  \n",
       "4  [there, must, be, some, way, out, of, here, sa...     2.680610   5.0  "
      ]
     },
     "execution_count": 19,
     "metadata": {},
     "output_type": "execute_result"
    }
   ],
   "source": [
    "# your code here\n",
    "query = search_queries[2]\n",
    "result = index.search(query)\n",
    "\n",
    "#Gives only those docs which are relevant\n",
    "filtered_df = df[df['DocumentID'].isin(result)]\n",
    "filtered_df['Query_Score'] = 0\n",
    "for term in query.split():\n",
    "    idf_score = float(idf(term, df))\n",
    "    filtered_df['Query_Score'] += filtered_df.apply(lambda row: term_frequency(row['Tokens'], term), axis=1)*idf_score\n",
    "filtered_df = filtered_df.sort_values(by=\"Query_Score\", ascending=False).reset_index(drop=True)\n",
    "filtered_df['Rank'] = filtered_df['Query_Score'].rank(ascending=False)\n",
    "filtered_df.head()"
   ]
  },
  {
   "cell_type": "markdown",
   "metadata": {
    "id": "2Jyzt0qwN-Js"
   },
   "source": [
    "### B: Ranking with vector space model with TF-IDF (10 points) \n",
    "\n",
    "**Cosine:** You should use cosine as your scoring function. \n",
    "\n",
    "**TFIDF:** For the document vectors, use the standard TF-IDF scores as introduced in A. For the query vector, use simple weights (the raw term frequency). For example:\n",
    "* query: never $\\rightarrow$ (1)\n",
    "* query: never know $\\rightarrow$ (1, 1)\n",
    "\n",
    "**Output:**\n",
    "You should output the top-5 results plus the cosine score of each of these documents.  \n",
    "\n",
    "The output should be like this:\n",
    "\n",
    "Rank Scores DocumentID Document \n",
    "\n",
    "---\n",
    "\n",
    "You can additionally assume that your queries will contain at most three words. Be sure to normalize your vectors as part of the cosine calculation!"
   ]
  },
  {
   "cell_type": "code",
   "execution_count": 20,
   "metadata": {},
   "outputs": [],
   "source": [
    "def idf_all_terms(df, doc_dict):\n",
    "    idf_score = []\n",
    "    for term in doc_dict:\n",
    "        idf_score.append(idf(term, df))\n",
    "    return idf_score\n",
    "\n",
    "def doc_tf_idf(df, doc_dict):\n",
    "    idf_score = idf_all_terms(df, doc_dict)\n",
    "    df['tf_idf'] = [[] for _ in range(len(df))]\n",
    "    for i in range(len(df)):\n",
    "        scores = [0 for i in range(0,len(doc_dict))]\n",
    "        freq = [0 for i in range(0,len(doc_dict))]\n",
    "        \n",
    "        # Update Frequency\n",
    "        for word in df['Tokens'][i]:\n",
    "            index = doc_dict.index(word) \n",
    "            freq[index] += 1\n",
    "            \n",
    "        # Update Scores\n",
    "        for word in df['Tokens'][i]:\n",
    "            index = doc_dict.index(word) \n",
    "            scores[index] = (1 + (math.log(freq[index])/math.log(10)))*idf_score[index]\n",
    "        \n",
    "        normalized_value = math.sqrt(sum([score**2 for score in scores]))\n",
    "        scores = [score/normalized_value for score in scores]\n",
    "        \n",
    "        # Update the dataframe\n",
    "        df['tf_idf'][i] = scores\n",
    "    "
   ]
  },
  {
   "cell_type": "code",
   "execution_count": 21,
   "metadata": {},
   "outputs": [],
   "source": [
    "doc_tf_idf(df, doc_dict)"
   ]
  },
  {
   "cell_type": "code",
   "execution_count": 22,
   "metadata": {},
   "outputs": [],
   "source": [
    "#Index and Normalize Query\n",
    "def index_norm_query(text, doc_dict):\n",
    "    terms = text.split()\n",
    "    query_score = [0 for i in range(0,len(doc_dict))]\n",
    "    for term in terms:\n",
    "        index = doc_dict.index(term)\n",
    "        query_score[index] += 1\n",
    "    normalized_value = math.sqrt(sum([score**2 for score in query_score]))\n",
    "    query_score = [score/normalized_value for score in query_score]\n",
    "    return query_score"
   ]
  },
  {
   "cell_type": "markdown",
   "metadata": {
    "id": "TlZvcIPCjV5O"
   },
   "source": [
    "Now show the results for the query: `time`"
   ]
  },
  {
   "cell_type": "code",
   "execution_count": 23,
   "metadata": {
    "id": "4_Nk12slN-Js"
   },
   "outputs": [
    {
     "data": {
      "text/html": [
       "<div>\n",
       "<style scoped>\n",
       "    .dataframe tbody tr th:only-of-type {\n",
       "        vertical-align: middle;\n",
       "    }\n",
       "\n",
       "    .dataframe tbody tr th {\n",
       "        vertical-align: top;\n",
       "    }\n",
       "\n",
       "    .dataframe thead th {\n",
       "        text-align: right;\n",
       "    }\n",
       "</style>\n",
       "<table border=\"1\" class=\"dataframe\">\n",
       "  <thead>\n",
       "    <tr style=\"text-align: right;\">\n",
       "      <th></th>\n",
       "      <th>DocumentID</th>\n",
       "      <th>Document</th>\n",
       "      <th>Tokens</th>\n",
       "      <th>tf_idf</th>\n",
       "      <th>Score</th>\n",
       "      <th>Rank</th>\n",
       "    </tr>\n",
       "  </thead>\n",
       "  <tbody>\n",
       "    <tr>\n",
       "      <th>0</th>\n",
       "      <td>John-legend-for-the-first-time-lyrics</td>\n",
       "      <td>is that music in my ear it's like i heard...</td>\n",
       "      <td>[is, that, music, in, my, ear, it, is, like, i...</td>\n",
       "      <td>[0.0, 0.0, 0.0, 0.0, 0.0, 0.0, 0.0, 0.0, 0.0, ...</td>\n",
       "      <td>0.101289</td>\n",
       "      <td>1.0</td>\n",
       "    </tr>\n",
       "    <tr>\n",
       "      <th>1</th>\n",
       "      <td>The-beatles-carry-that-weight-lyrics</td>\n",
       "      <td>boy, you're gonna carry that weight carry t...</td>\n",
       "      <td>[boy, ,, you, are, going, to, carry, that, wei...</td>\n",
       "      <td>[0.0, 0.0, 0.0, 0.0, 0.0, 0.0, 0.0, 0.0, 0.0, ...</td>\n",
       "      <td>0.096126</td>\n",
       "      <td>2.0</td>\n",
       "    </tr>\n",
       "    <tr>\n",
       "      <th>2</th>\n",
       "      <td>The-beatles-ill-follow-the-sun-lyrics</td>\n",
       "      <td>one day, you'll look to see i've gone for t...</td>\n",
       "      <td>[one, day, ,, you, will, look, to, see, i, hav...</td>\n",
       "      <td>[0.0, 0.0, 0.0, 0.0, 0.0, 0.0, 0.0, 0.0, 0.0, ...</td>\n",
       "      <td>0.076795</td>\n",
       "      <td>3.0</td>\n",
       "    </tr>\n",
       "    <tr>\n",
       "      <th>3</th>\n",
       "      <td>Lana-del-rey-burnt-norton-interlude-lyrics</td>\n",
       "      <td>time present and time past are both perhaps...</td>\n",
       "      <td>[time, present, and, time, past, are, both, pe...</td>\n",
       "      <td>[0.0, 0.0, 0.0, 0.0, 0.0, 0.0, 0.0, 0.0, 0.0, ...</td>\n",
       "      <td>0.073668</td>\n",
       "      <td>4.0</td>\n",
       "    </tr>\n",
       "    <tr>\n",
       "      <th>4</th>\n",
       "      <td>Linkin-park-from-the-inside-lyrics</td>\n",
       "      <td>i don't know who to trust, no surprise ever...</td>\n",
       "      <td>[i, do, not, know, who, to, trust, ,, no, surp...</td>\n",
       "      <td>[0.0, 0.0, 0.0, 0.0, 0.0, 0.0, 0.0, 0.0, 0.0, ...</td>\n",
       "      <td>0.071755</td>\n",
       "      <td>5.0</td>\n",
       "    </tr>\n",
       "  </tbody>\n",
       "</table>\n",
       "</div>"
      ],
      "text/plain": [
       "                                   DocumentID  \\\n",
       "0       John-legend-for-the-first-time-lyrics   \n",
       "1        The-beatles-carry-that-weight-lyrics   \n",
       "2       The-beatles-ill-follow-the-sun-lyrics   \n",
       "3  Lana-del-rey-burnt-norton-interlude-lyrics   \n",
       "4          Linkin-park-from-the-inside-lyrics   \n",
       "\n",
       "                                            Document  \\\n",
       "0       is that music in my ear it's like i heard...   \n",
       "1     boy, you're gonna carry that weight carry t...   \n",
       "2     one day, you'll look to see i've gone for t...   \n",
       "3     time present and time past are both perhaps...   \n",
       "4     i don't know who to trust, no surprise ever...   \n",
       "\n",
       "                                              Tokens  \\\n",
       "0  [is, that, music, in, my, ear, it, is, like, i...   \n",
       "1  [boy, ,, you, are, going, to, carry, that, wei...   \n",
       "2  [one, day, ,, you, will, look, to, see, i, hav...   \n",
       "3  [time, present, and, time, past, are, both, pe...   \n",
       "4  [i, do, not, know, who, to, trust, ,, no, surp...   \n",
       "\n",
       "                                              tf_idf     Score  Rank  \n",
       "0  [0.0, 0.0, 0.0, 0.0, 0.0, 0.0, 0.0, 0.0, 0.0, ...  0.101289   1.0  \n",
       "1  [0.0, 0.0, 0.0, 0.0, 0.0, 0.0, 0.0, 0.0, 0.0, ...  0.096126   2.0  \n",
       "2  [0.0, 0.0, 0.0, 0.0, 0.0, 0.0, 0.0, 0.0, 0.0, ...  0.076795   3.0  \n",
       "3  [0.0, 0.0, 0.0, 0.0, 0.0, 0.0, 0.0, 0.0, 0.0, ...  0.073668   4.0  \n",
       "4  [0.0, 0.0, 0.0, 0.0, 0.0, 0.0, 0.0, 0.0, 0.0, ...  0.071755   5.0  "
      ]
     },
     "execution_count": 23,
     "metadata": {},
     "output_type": "execute_result"
    }
   ],
   "source": [
    "# your code here\n",
    "query_vector = index_norm_query(search_queries[0], doc_dict)\n",
    "df['Score'] = [sum([i*j for i,j in zip(row, query_vector)]) for row in df['tf_idf']]\n",
    "df = df.sort_values(by=\"Score\", ascending=False).reset_index(drop=True)\n",
    "df['Rank'] = df['Score'].rank(ascending=False)\n",
    "df.head()"
   ]
  },
  {
   "cell_type": "markdown",
   "metadata": {
    "id": "oDAyxTU_jj-p"
   },
   "source": [
    "Now show the results for the query: `never know`"
   ]
  },
  {
   "cell_type": "code",
   "execution_count": 24,
   "metadata": {
    "id": "QDhuNQ8SjkYU"
   },
   "outputs": [
    {
     "data": {
      "text/html": [
       "<div>\n",
       "<style scoped>\n",
       "    .dataframe tbody tr th:only-of-type {\n",
       "        vertical-align: middle;\n",
       "    }\n",
       "\n",
       "    .dataframe tbody tr th {\n",
       "        vertical-align: top;\n",
       "    }\n",
       "\n",
       "    .dataframe thead th {\n",
       "        text-align: right;\n",
       "    }\n",
       "</style>\n",
       "<table border=\"1\" class=\"dataframe\">\n",
       "  <thead>\n",
       "    <tr style=\"text-align: right;\">\n",
       "      <th></th>\n",
       "      <th>DocumentID</th>\n",
       "      <th>Document</th>\n",
       "      <th>Tokens</th>\n",
       "      <th>tf_idf</th>\n",
       "      <th>Score</th>\n",
       "      <th>Rank</th>\n",
       "    </tr>\n",
       "  </thead>\n",
       "  <tbody>\n",
       "    <tr>\n",
       "      <th>0</th>\n",
       "      <td>Skrillex-pretty-bye-bye-lyrics</td>\n",
       "      <td>i know you are trouble but i can't seem to ...</td>\n",
       "      <td>[i, know, you, are, trouble, but, i, can, not,...</td>\n",
       "      <td>[0.0, 0.0, 0.0, 0.0, 0.0, 0.0, 0.0, 0.0, 0.176...</td>\n",
       "      <td>0.073648</td>\n",
       "      <td>1.0</td>\n",
       "    </tr>\n",
       "    <tr>\n",
       "      <th>1</th>\n",
       "      <td>John-legend-made-to-love-lyrics</td>\n",
       "      <td>i was sent here for you we were made to l...</td>\n",
       "      <td>[i, wa, sent, here, for, you, we, were, made, ...</td>\n",
       "      <td>[0.0, 0.0, 0.0, 0.0, 0.0, 0.0, 0.0, 0.0, 0.0, ...</td>\n",
       "      <td>0.073598</td>\n",
       "      <td>2.0</td>\n",
       "    </tr>\n",
       "    <tr>\n",
       "      <th>2</th>\n",
       "      <td>Billie-eilish-8-lyrics</td>\n",
       "      <td>wait a minute, let me finish i know you don...</td>\n",
       "      <td>[wait, a, minute, ,, let, me, finish, i, know,...</td>\n",
       "      <td>[0.0, 0.0, 0.0, 0.06911137531833073, 0.0602141...</td>\n",
       "      <td>0.068107</td>\n",
       "      <td>3.0</td>\n",
       "    </tr>\n",
       "    <tr>\n",
       "      <th>3</th>\n",
       "      <td>Panic-at-the-disco-girls-girls-boys-lyrics</td>\n",
       "      <td>i don't want to hear you got a boyfriend so...</td>\n",
       "      <td>[i, do, not, want, to, hear, you, got, a, boyf...</td>\n",
       "      <td>[0.0, 0.0, 0.0, 0.0, 0.0, 0.0, 0.0, 0.0, 0.0, ...</td>\n",
       "      <td>0.063735</td>\n",
       "      <td>4.0</td>\n",
       "    </tr>\n",
       "    <tr>\n",
       "      <th>4</th>\n",
       "      <td>Muse-aftermath-lyrics</td>\n",
       "      <td>war is all around i'm growing tired of figh...</td>\n",
       "      <td>[war, is, all, around, i, am, growing, tired, ...</td>\n",
       "      <td>[0.0, 0.0, 0.0, 0.0, 0.0, 0.0, 0.0, 0.0, 0.0, ...</td>\n",
       "      <td>0.059311</td>\n",
       "      <td>5.0</td>\n",
       "    </tr>\n",
       "  </tbody>\n",
       "</table>\n",
       "</div>"
      ],
      "text/plain": [
       "                                   DocumentID  \\\n",
       "0              Skrillex-pretty-bye-bye-lyrics   \n",
       "1             John-legend-made-to-love-lyrics   \n",
       "2                      Billie-eilish-8-lyrics   \n",
       "3  Panic-at-the-disco-girls-girls-boys-lyrics   \n",
       "4                       Muse-aftermath-lyrics   \n",
       "\n",
       "                                            Document  \\\n",
       "0     i know you are trouble but i can't seem to ...   \n",
       "1       i was sent here for you we were made to l...   \n",
       "2     wait a minute, let me finish i know you don...   \n",
       "3     i don't want to hear you got a boyfriend so...   \n",
       "4     war is all around i'm growing tired of figh...   \n",
       "\n",
       "                                              Tokens  \\\n",
       "0  [i, know, you, are, trouble, but, i, can, not,...   \n",
       "1  [i, wa, sent, here, for, you, we, were, made, ...   \n",
       "2  [wait, a, minute, ,, let, me, finish, i, know,...   \n",
       "3  [i, do, not, want, to, hear, you, got, a, boyf...   \n",
       "4  [war, is, all, around, i, am, growing, tired, ...   \n",
       "\n",
       "                                              tf_idf     Score  Rank  \n",
       "0  [0.0, 0.0, 0.0, 0.0, 0.0, 0.0, 0.0, 0.0, 0.176...  0.073648   1.0  \n",
       "1  [0.0, 0.0, 0.0, 0.0, 0.0, 0.0, 0.0, 0.0, 0.0, ...  0.073598   2.0  \n",
       "2  [0.0, 0.0, 0.0, 0.06911137531833073, 0.0602141...  0.068107   3.0  \n",
       "3  [0.0, 0.0, 0.0, 0.0, 0.0, 0.0, 0.0, 0.0, 0.0, ...  0.063735   4.0  \n",
       "4  [0.0, 0.0, 0.0, 0.0, 0.0, 0.0, 0.0, 0.0, 0.0, ...  0.059311   5.0  "
      ]
     },
     "execution_count": 24,
     "metadata": {},
     "output_type": "execute_result"
    }
   ],
   "source": [
    "# your code here\n",
    "query_vector = index_norm_query(search_queries[1], doc_dict)\n",
    "df['Score'] = [sum([i*j for i,j in zip(row, query_vector)]) for row in df['tf_idf']]\n",
    "df = df.sort_values(by=\"Score\", ascending=False).reset_index(drop=True)\n",
    "df['Rank'] = df['Score'].rank(ascending=False)\n",
    "df.head()"
   ]
  },
  {
   "cell_type": "markdown",
   "metadata": {
    "id": "detrTVmMjk3I"
   },
   "source": [
    "Now show the results for the query: `make no sense`"
   ]
  },
  {
   "cell_type": "code",
   "execution_count": 25,
   "metadata": {
    "id": "Ct3N8xrsjlbn"
   },
   "outputs": [
    {
     "data": {
      "text/html": [
       "<div>\n",
       "<style scoped>\n",
       "    .dataframe tbody tr th:only-of-type {\n",
       "        vertical-align: middle;\n",
       "    }\n",
       "\n",
       "    .dataframe tbody tr th {\n",
       "        vertical-align: top;\n",
       "    }\n",
       "\n",
       "    .dataframe thead th {\n",
       "        text-align: right;\n",
       "    }\n",
       "</style>\n",
       "<table border=\"1\" class=\"dataframe\">\n",
       "  <thead>\n",
       "    <tr style=\"text-align: right;\">\n",
       "      <th></th>\n",
       "      <th>DocumentID</th>\n",
       "      <th>Document</th>\n",
       "      <th>Tokens</th>\n",
       "      <th>tf_idf</th>\n",
       "      <th>Score</th>\n",
       "      <th>Rank</th>\n",
       "    </tr>\n",
       "  </thead>\n",
       "  <tbody>\n",
       "    <tr>\n",
       "      <th>0</th>\n",
       "      <td>Linkin-park-one-step-closer-lyrics</td>\n",
       "      <td>i cannot take this anymore saying everythin...</td>\n",
       "      <td>[i, can, not, take, this, anymore, saying, eve...</td>\n",
       "      <td>[0.0, 0.0, 0.0, 0.0, 0.0, 0.0, 0.0, 0.0, 0.0, ...</td>\n",
       "      <td>0.185360</td>\n",
       "      <td>1.0</td>\n",
       "    </tr>\n",
       "    <tr>\n",
       "      <th>1</th>\n",
       "      <td>Bring-me-the-horizon-mother-tongue-lyrics</td>\n",
       "      <td>i didn't see it coming  but i never really ...</td>\n",
       "      <td>[i, did, not, see, it, coming, but, i, never, ...</td>\n",
       "      <td>[0.0, 0.0, 0.0, 0.0, 0.08485694890580205, 0.0,...</td>\n",
       "      <td>0.167635</td>\n",
       "      <td>2.0</td>\n",
       "    </tr>\n",
       "    <tr>\n",
       "      <th>2</th>\n",
       "      <td>Shawn-mendes-act-like-you-love-me-lyrics</td>\n",
       "      <td>so you leave tomorrow, just sleep the night...</td>\n",
       "      <td>[so, you, leave, tomorrow, ,, just, sleep, the...</td>\n",
       "      <td>[0.0, 0.0, 0.0, 0.0, 0.0, 0.0, 0.0, 0.0, 0.0, ...</td>\n",
       "      <td>0.120528</td>\n",
       "      <td>3.0</td>\n",
       "    </tr>\n",
       "    <tr>\n",
       "      <th>3</th>\n",
       "      <td>Florence-the-machine-all-this-and-heaven-too-l...</td>\n",
       "      <td>and the heart is hard to translate it has a...</td>\n",
       "      <td>[and, the, heart, is, hard, to, translate, it,...</td>\n",
       "      <td>[0.0, 0.0, 0.0, 0.0, 0.0, 0.0, 0.0, 0.0, 0.0, ...</td>\n",
       "      <td>0.118449</td>\n",
       "      <td>4.0</td>\n",
       "    </tr>\n",
       "    <tr>\n",
       "      <th>4</th>\n",
       "      <td>Kid-cudi-ghost-lyrics</td>\n",
       "      <td>yeah, woah-woah, oh yeah, woah-woah, haha y...</td>\n",
       "      <td>[yeah, ,, woah-woah, ,, oh, yeah, ,, woah-woah...</td>\n",
       "      <td>[0.0, 0.0, 0.0, 0.046603625175871494, 0.0, 0.0...</td>\n",
       "      <td>0.101871</td>\n",
       "      <td>5.0</td>\n",
       "    </tr>\n",
       "  </tbody>\n",
       "</table>\n",
       "</div>"
      ],
      "text/plain": [
       "                                          DocumentID  \\\n",
       "0                 Linkin-park-one-step-closer-lyrics   \n",
       "1          Bring-me-the-horizon-mother-tongue-lyrics   \n",
       "2           Shawn-mendes-act-like-you-love-me-lyrics   \n",
       "3  Florence-the-machine-all-this-and-heaven-too-l...   \n",
       "4                              Kid-cudi-ghost-lyrics   \n",
       "\n",
       "                                            Document  \\\n",
       "0     i cannot take this anymore saying everythin...   \n",
       "1     i didn't see it coming  but i never really ...   \n",
       "2     so you leave tomorrow, just sleep the night...   \n",
       "3     and the heart is hard to translate it has a...   \n",
       "4     yeah, woah-woah, oh yeah, woah-woah, haha y...   \n",
       "\n",
       "                                              Tokens  \\\n",
       "0  [i, can, not, take, this, anymore, saying, eve...   \n",
       "1  [i, did, not, see, it, coming, but, i, never, ...   \n",
       "2  [so, you, leave, tomorrow, ,, just, sleep, the...   \n",
       "3  [and, the, heart, is, hard, to, translate, it,...   \n",
       "4  [yeah, ,, woah-woah, ,, oh, yeah, ,, woah-woah...   \n",
       "\n",
       "                                              tf_idf     Score  Rank  \n",
       "0  [0.0, 0.0, 0.0, 0.0, 0.0, 0.0, 0.0, 0.0, 0.0, ...  0.185360   1.0  \n",
       "1  [0.0, 0.0, 0.0, 0.0, 0.08485694890580205, 0.0,...  0.167635   2.0  \n",
       "2  [0.0, 0.0, 0.0, 0.0, 0.0, 0.0, 0.0, 0.0, 0.0, ...  0.120528   3.0  \n",
       "3  [0.0, 0.0, 0.0, 0.0, 0.0, 0.0, 0.0, 0.0, 0.0, ...  0.118449   4.0  \n",
       "4  [0.0, 0.0, 0.0, 0.046603625175871494, 0.0, 0.0...  0.101871   5.0  "
      ]
     },
     "execution_count": 25,
     "metadata": {},
     "output_type": "execute_result"
    }
   ],
   "source": [
    "# your code here\n",
    "query_vector = index_norm_query(search_queries[2], doc_dict)\n",
    "df['Score'] = [sum([i*j for i,j in zip(row, query_vector)]) for row in df['tf_idf']]\n",
    "df = df.sort_values(by=\"Score\", ascending=False).reset_index(drop=True)\n",
    "df['Rank'] = df['Score'].rank(ascending=False)\n",
    "df.head()"
   ]
  },
  {
   "cell_type": "markdown",
   "metadata": {
    "id": "C82_e_CgN-Jt"
   },
   "source": [
    "### C: Ranking with BM25 (10 points) \n",
    "Finally, let's try the BM25 approach for ranking. Refer to https://en.wikipedia.org/wiki/Okapi_BM25 for the specific formula. You could choose k_1 = 1.2 and b = 0.75 but feel free to try other options.\n",
    "\n",
    "**Output:**\n",
    "You should output the top-5 results plus the BM25 score of each of these documents.  \n",
    "\n",
    "The output should be like this:\n",
    "\n",
    "Rank Scores DocumentID Document"
   ]
  },
  {
   "cell_type": "code",
   "execution_count": 26,
   "metadata": {},
   "outputs": [],
   "source": [
    "# Function to calculate BM25\n",
    "def bm25_score(df, column, query, k1=1.2, b=0.75):\n",
    "    N = len(df)\n",
    "    avg_len = sum(df[column].apply(len)) / N\n",
    "    scores = []\n",
    "    for i in range(N):\n",
    "        document = df[column].iloc[i]\n",
    "        score = 0\n",
    "        for word in query.split():\n",
    "            n = sum(1 for d in df[column] if word in d)\n",
    "            idf = math.log(N/n)/math.log(10)\n",
    "            f = document.count(word)\n",
    "            score += idf * (f * (k1 + 1) / (f + k1 * (1 - b + b * len(document) / avg_len)))\n",
    "        scores.append(score)\n",
    "    return pd.Series(scores, index=df.index)"
   ]
  },
  {
   "cell_type": "markdown",
   "metadata": {
    "id": "_P1o4f7Ik2tS"
   },
   "source": [
    "Now show the results for the query: `time`"
   ]
  },
  {
   "cell_type": "code",
   "execution_count": 27,
   "metadata": {
    "id": "M0TWNgwYk2tU"
   },
   "outputs": [
    {
     "data": {
      "text/html": [
       "<div>\n",
       "<style scoped>\n",
       "    .dataframe tbody tr th:only-of-type {\n",
       "        vertical-align: middle;\n",
       "    }\n",
       "\n",
       "    .dataframe tbody tr th {\n",
       "        vertical-align: top;\n",
       "    }\n",
       "\n",
       "    .dataframe thead th {\n",
       "        text-align: right;\n",
       "    }\n",
       "</style>\n",
       "<table border=\"1\" class=\"dataframe\">\n",
       "  <thead>\n",
       "    <tr style=\"text-align: right;\">\n",
       "      <th></th>\n",
       "      <th>DocumentID</th>\n",
       "      <th>Document</th>\n",
       "      <th>Tokens</th>\n",
       "      <th>tf_idf</th>\n",
       "      <th>Score</th>\n",
       "      <th>Rank</th>\n",
       "    </tr>\n",
       "  </thead>\n",
       "  <tbody>\n",
       "    <tr>\n",
       "      <th>0</th>\n",
       "      <td>John-legend-for-the-first-time-lyrics</td>\n",
       "      <td>is that music in my ear it's like i heard...</td>\n",
       "      <td>[is, that, music, in, my, ear, it, is, like, i...</td>\n",
       "      <td>[0.0, 0.0, 0.0, 0.0, 0.0, 0.0, 0.0, 0.0, 0.0, ...</td>\n",
       "      <td>0.880378</td>\n",
       "      <td>1.0</td>\n",
       "    </tr>\n",
       "    <tr>\n",
       "      <th>1</th>\n",
       "      <td>Lana-del-rey-burnt-norton-interlude-lyrics</td>\n",
       "      <td>time present and time past are both perhaps...</td>\n",
       "      <td>[time, present, and, time, past, are, both, pe...</td>\n",
       "      <td>[0.0, 0.0, 0.0, 0.0, 0.0, 0.0, 0.0, 0.0, 0.0, ...</td>\n",
       "      <td>0.873321</td>\n",
       "      <td>2.0</td>\n",
       "    </tr>\n",
       "    <tr>\n",
       "      <th>2</th>\n",
       "      <td>Sza-pray-lyrics</td>\n",
       "      <td>pray for yourself one time one time, time ...</td>\n",
       "      <td>[pray, for, yourself, one, time, one, time, ,,...</td>\n",
       "      <td>[0.0, 0.0, 0.0, 0.0, 0.0, 0.0, 0.0, 0.0, 0.0, ...</td>\n",
       "      <td>0.849563</td>\n",
       "      <td>3.0</td>\n",
       "    </tr>\n",
       "    <tr>\n",
       "      <th>3</th>\n",
       "      <td>System-of-a-down-thetawaves-lyrics</td>\n",
       "      <td>the unsettled mind is at times an ally leav...</td>\n",
       "      <td>[the, unsettled, mind, is, at, time, an, ally,...</td>\n",
       "      <td>[0.0, 0.0, 0.0, 0.0, 0.0, 0.0, 0.0, 0.0, 0.0, ...</td>\n",
       "      <td>0.847497</td>\n",
       "      <td>4.0</td>\n",
       "    </tr>\n",
       "    <tr>\n",
       "      <th>4</th>\n",
       "      <td>Linkin-park-from-the-inside-lyrics</td>\n",
       "      <td>i don't know who to trust, no surprise ever...</td>\n",
       "      <td>[i, do, not, know, who, to, trust, ,, no, surp...</td>\n",
       "      <td>[0.0, 0.0, 0.0, 0.0, 0.0, 0.0, 0.0, 0.0, 0.0, ...</td>\n",
       "      <td>0.834475</td>\n",
       "      <td>5.0</td>\n",
       "    </tr>\n",
       "  </tbody>\n",
       "</table>\n",
       "</div>"
      ],
      "text/plain": [
       "                                   DocumentID  \\\n",
       "0       John-legend-for-the-first-time-lyrics   \n",
       "1  Lana-del-rey-burnt-norton-interlude-lyrics   \n",
       "2                             Sza-pray-lyrics   \n",
       "3          System-of-a-down-thetawaves-lyrics   \n",
       "4          Linkin-park-from-the-inside-lyrics   \n",
       "\n",
       "                                            Document  \\\n",
       "0       is that music in my ear it's like i heard...   \n",
       "1     time present and time past are both perhaps...   \n",
       "2      pray for yourself one time one time, time ...   \n",
       "3     the unsettled mind is at times an ally leav...   \n",
       "4     i don't know who to trust, no surprise ever...   \n",
       "\n",
       "                                              Tokens  \\\n",
       "0  [is, that, music, in, my, ear, it, is, like, i...   \n",
       "1  [time, present, and, time, past, are, both, pe...   \n",
       "2  [pray, for, yourself, one, time, one, time, ,,...   \n",
       "3  [the, unsettled, mind, is, at, time, an, ally,...   \n",
       "4  [i, do, not, know, who, to, trust, ,, no, surp...   \n",
       "\n",
       "                                              tf_idf     Score  Rank  \n",
       "0  [0.0, 0.0, 0.0, 0.0, 0.0, 0.0, 0.0, 0.0, 0.0, ...  0.880378   1.0  \n",
       "1  [0.0, 0.0, 0.0, 0.0, 0.0, 0.0, 0.0, 0.0, 0.0, ...  0.873321   2.0  \n",
       "2  [0.0, 0.0, 0.0, 0.0, 0.0, 0.0, 0.0, 0.0, 0.0, ...  0.849563   3.0  \n",
       "3  [0.0, 0.0, 0.0, 0.0, 0.0, 0.0, 0.0, 0.0, 0.0, ...  0.847497   4.0  \n",
       "4  [0.0, 0.0, 0.0, 0.0, 0.0, 0.0, 0.0, 0.0, 0.0, ...  0.834475   5.0  "
      ]
     },
     "execution_count": 27,
     "metadata": {},
     "output_type": "execute_result"
    }
   ],
   "source": [
    "# your code here\n",
    "df['Score'] = bm25_score(df, 'Tokens', search_queries[0], 1.2, 0.75)\n",
    "df = df.sort_values(by=\"Score\", ascending=False).reset_index(drop=True)\n",
    "df['Rank'] = df['Score'].rank(ascending=False)\n",
    "df.head()"
   ]
  },
  {
   "cell_type": "markdown",
   "metadata": {
    "id": "XbwIhabwk2tU"
   },
   "source": [
    "Now show the results for the query: `never know`"
   ]
  },
  {
   "cell_type": "code",
   "execution_count": 28,
   "metadata": {
    "id": "vW6AnSdJk2tV"
   },
   "outputs": [
    {
     "data": {
      "text/html": [
       "<div>\n",
       "<style scoped>\n",
       "    .dataframe tbody tr th:only-of-type {\n",
       "        vertical-align: middle;\n",
       "    }\n",
       "\n",
       "    .dataframe tbody tr th {\n",
       "        vertical-align: top;\n",
       "    }\n",
       "\n",
       "    .dataframe thead th {\n",
       "        text-align: right;\n",
       "    }\n",
       "</style>\n",
       "<table border=\"1\" class=\"dataframe\">\n",
       "  <thead>\n",
       "    <tr style=\"text-align: right;\">\n",
       "      <th></th>\n",
       "      <th>DocumentID</th>\n",
       "      <th>Document</th>\n",
       "      <th>Tokens</th>\n",
       "      <th>tf_idf</th>\n",
       "      <th>Score</th>\n",
       "      <th>Rank</th>\n",
       "    </tr>\n",
       "  </thead>\n",
       "  <tbody>\n",
       "    <tr>\n",
       "      <th>0</th>\n",
       "      <td>Skrillex-pretty-bye-bye-lyrics</td>\n",
       "      <td>i know you are trouble but i can't seem to ...</td>\n",
       "      <td>[i, know, you, are, trouble, but, i, can, not,...</td>\n",
       "      <td>[0.0, 0.0, 0.0, 0.0, 0.0, 0.0, 0.0, 0.0, 0.176...</td>\n",
       "      <td>1.264629</td>\n",
       "      <td>1.0</td>\n",
       "    </tr>\n",
       "    <tr>\n",
       "      <th>1</th>\n",
       "      <td>Billie-eilish-8-lyrics</td>\n",
       "      <td>wait a minute, let me finish i know you don...</td>\n",
       "      <td>[wait, a, minute, ,, let, me, finish, i, know,...</td>\n",
       "      <td>[0.0, 0.0, 0.0, 0.06911137531833073, 0.0602141...</td>\n",
       "      <td>1.249621</td>\n",
       "      <td>2.0</td>\n",
       "    </tr>\n",
       "    <tr>\n",
       "      <th>2</th>\n",
       "      <td>Panic-at-the-disco-girls-girls-boys-lyrics</td>\n",
       "      <td>i don't want to hear you got a boyfriend so...</td>\n",
       "      <td>[i, do, not, want, to, hear, you, got, a, boyf...</td>\n",
       "      <td>[0.0, 0.0, 0.0, 0.0, 0.0, 0.0, 0.0, 0.0, 0.0, ...</td>\n",
       "      <td>1.169681</td>\n",
       "      <td>3.0</td>\n",
       "    </tr>\n",
       "    <tr>\n",
       "      <th>3</th>\n",
       "      <td>Marina-the-archetypes-lyrics</td>\n",
       "      <td>housewife, beauty queen, homewrecker, idle t...</td>\n",
       "      <td>[housewife, ,, beauty, queen, ,, homewrecker, ...</td>\n",
       "      <td>[0.0, 0.0, 0.15988212494129256, 0.0, 0.0622348...</td>\n",
       "      <td>1.137158</td>\n",
       "      <td>4.0</td>\n",
       "    </tr>\n",
       "    <tr>\n",
       "      <th>4</th>\n",
       "      <td>Alessia-cara-outlaws-lyrics</td>\n",
       "      <td>run, run like the devil’s behind us run to ...</td>\n",
       "      <td>[run, ,, run, like, the, devil, ’, s, behind, ...</td>\n",
       "      <td>[0.0, 0.0, 0.0, 0.03263832494120442, 0.0, 0.0,...</td>\n",
       "      <td>1.134210</td>\n",
       "      <td>5.0</td>\n",
       "    </tr>\n",
       "  </tbody>\n",
       "</table>\n",
       "</div>"
      ],
      "text/plain": [
       "                                   DocumentID  \\\n",
       "0              Skrillex-pretty-bye-bye-lyrics   \n",
       "1                      Billie-eilish-8-lyrics   \n",
       "2  Panic-at-the-disco-girls-girls-boys-lyrics   \n",
       "3                Marina-the-archetypes-lyrics   \n",
       "4                 Alessia-cara-outlaws-lyrics   \n",
       "\n",
       "                                            Document  \\\n",
       "0     i know you are trouble but i can't seem to ...   \n",
       "1     wait a minute, let me finish i know you don...   \n",
       "2     i don't want to hear you got a boyfriend so...   \n",
       "3    housewife, beauty queen, homewrecker, idle t...   \n",
       "4     run, run like the devil’s behind us run to ...   \n",
       "\n",
       "                                              Tokens  \\\n",
       "0  [i, know, you, are, trouble, but, i, can, not,...   \n",
       "1  [wait, a, minute, ,, let, me, finish, i, know,...   \n",
       "2  [i, do, not, want, to, hear, you, got, a, boyf...   \n",
       "3  [housewife, ,, beauty, queen, ,, homewrecker, ...   \n",
       "4  [run, ,, run, like, the, devil, ’, s, behind, ...   \n",
       "\n",
       "                                              tf_idf     Score  Rank  \n",
       "0  [0.0, 0.0, 0.0, 0.0, 0.0, 0.0, 0.0, 0.0, 0.176...  1.264629   1.0  \n",
       "1  [0.0, 0.0, 0.0, 0.06911137531833073, 0.0602141...  1.249621   2.0  \n",
       "2  [0.0, 0.0, 0.0, 0.0, 0.0, 0.0, 0.0, 0.0, 0.0, ...  1.169681   3.0  \n",
       "3  [0.0, 0.0, 0.15988212494129256, 0.0, 0.0622348...  1.137158   4.0  \n",
       "4  [0.0, 0.0, 0.0, 0.03263832494120442, 0.0, 0.0,...  1.134210   5.0  "
      ]
     },
     "execution_count": 28,
     "metadata": {},
     "output_type": "execute_result"
    }
   ],
   "source": [
    "# your code here\n",
    "df['Score'] = bm25_score(df, 'Tokens', search_queries[1], 1.2, 0.75)\n",
    "df = df.sort_values(by=\"Score\", ascending=False).reset_index(drop=True)\n",
    "df['Rank'] = df['Score'].rank(ascending=False)\n",
    "df.head()"
   ]
  },
  {
   "cell_type": "markdown",
   "metadata": {
    "id": "pgT5flFMk2tZ"
   },
   "source": [
    "Now show the results for the query: `make no sense`"
   ]
  },
  {
   "cell_type": "code",
   "execution_count": 29,
   "metadata": {
    "id": "4BfNnVvWk2tZ"
   },
   "outputs": [
    {
     "data": {
      "text/html": [
       "<div>\n",
       "<style scoped>\n",
       "    .dataframe tbody tr th:only-of-type {\n",
       "        vertical-align: middle;\n",
       "    }\n",
       "\n",
       "    .dataframe tbody tr th {\n",
       "        vertical-align: top;\n",
       "    }\n",
       "\n",
       "    .dataframe thead th {\n",
       "        text-align: right;\n",
       "    }\n",
       "</style>\n",
       "<table border=\"1\" class=\"dataframe\">\n",
       "  <thead>\n",
       "    <tr style=\"text-align: right;\">\n",
       "      <th></th>\n",
       "      <th>DocumentID</th>\n",
       "      <th>Document</th>\n",
       "      <th>Tokens</th>\n",
       "      <th>tf_idf</th>\n",
       "      <th>Score</th>\n",
       "      <th>Rank</th>\n",
       "    </tr>\n",
       "  </thead>\n",
       "  <tbody>\n",
       "    <tr>\n",
       "      <th>0</th>\n",
       "      <td>Bring-me-the-horizon-mother-tongue-lyrics</td>\n",
       "      <td>i didn't see it coming  but i never really ...</td>\n",
       "      <td>[i, did, not, see, it, coming, but, i, never, ...</td>\n",
       "      <td>[0.0, 0.0, 0.0, 0.0, 0.08485694890580205, 0.0,...</td>\n",
       "      <td>4.327209</td>\n",
       "      <td>1.0</td>\n",
       "    </tr>\n",
       "    <tr>\n",
       "      <th>1</th>\n",
       "      <td>Linkin-park-one-step-closer-lyrics</td>\n",
       "      <td>i cannot take this anymore saying everythin...</td>\n",
       "      <td>[i, can, not, take, this, anymore, saying, eve...</td>\n",
       "      <td>[0.0, 0.0, 0.0, 0.0, 0.0, 0.0, 0.0, 0.0, 0.0, ...</td>\n",
       "      <td>3.758132</td>\n",
       "      <td>2.0</td>\n",
       "    </tr>\n",
       "    <tr>\n",
       "      <th>2</th>\n",
       "      <td>Florence-the-machine-all-this-and-heaven-too-l...</td>\n",
       "      <td>and the heart is hard to translate it has a...</td>\n",
       "      <td>[and, the, heart, is, hard, to, translate, it,...</td>\n",
       "      <td>[0.0, 0.0, 0.0, 0.0, 0.0, 0.0, 0.0, 0.0, 0.0, ...</td>\n",
       "      <td>3.483398</td>\n",
       "      <td>3.0</td>\n",
       "    </tr>\n",
       "    <tr>\n",
       "      <th>3</th>\n",
       "      <td>Kid-cudi-ghost-lyrics</td>\n",
       "      <td>yeah, woah-woah, oh yeah, woah-woah, haha y...</td>\n",
       "      <td>[yeah, ,, woah-woah, ,, oh, yeah, ,, woah-woah...</td>\n",
       "      <td>[0.0, 0.0, 0.0, 0.046603625175871494, 0.0, 0.0...</td>\n",
       "      <td>3.056984</td>\n",
       "      <td>4.0</td>\n",
       "    </tr>\n",
       "    <tr>\n",
       "      <th>4</th>\n",
       "      <td>Shawn-mendes-act-like-you-love-me-lyrics</td>\n",
       "      <td>so you leave tomorrow, just sleep the night...</td>\n",
       "      <td>[so, you, leave, tomorrow, ,, just, sleep, the...</td>\n",
       "      <td>[0.0, 0.0, 0.0, 0.0, 0.0, 0.0, 0.0, 0.0, 0.0, ...</td>\n",
       "      <td>2.355055</td>\n",
       "      <td>5.0</td>\n",
       "    </tr>\n",
       "  </tbody>\n",
       "</table>\n",
       "</div>"
      ],
      "text/plain": [
       "                                          DocumentID  \\\n",
       "0          Bring-me-the-horizon-mother-tongue-lyrics   \n",
       "1                 Linkin-park-one-step-closer-lyrics   \n",
       "2  Florence-the-machine-all-this-and-heaven-too-l...   \n",
       "3                              Kid-cudi-ghost-lyrics   \n",
       "4           Shawn-mendes-act-like-you-love-me-lyrics   \n",
       "\n",
       "                                            Document  \\\n",
       "0     i didn't see it coming  but i never really ...   \n",
       "1     i cannot take this anymore saying everythin...   \n",
       "2     and the heart is hard to translate it has a...   \n",
       "3     yeah, woah-woah, oh yeah, woah-woah, haha y...   \n",
       "4     so you leave tomorrow, just sleep the night...   \n",
       "\n",
       "                                              Tokens  \\\n",
       "0  [i, did, not, see, it, coming, but, i, never, ...   \n",
       "1  [i, can, not, take, this, anymore, saying, eve...   \n",
       "2  [and, the, heart, is, hard, to, translate, it,...   \n",
       "3  [yeah, ,, woah-woah, ,, oh, yeah, ,, woah-woah...   \n",
       "4  [so, you, leave, tomorrow, ,, just, sleep, the...   \n",
       "\n",
       "                                              tf_idf     Score  Rank  \n",
       "0  [0.0, 0.0, 0.0, 0.0, 0.08485694890580205, 0.0,...  4.327209   1.0  \n",
       "1  [0.0, 0.0, 0.0, 0.0, 0.0, 0.0, 0.0, 0.0, 0.0, ...  3.758132   2.0  \n",
       "2  [0.0, 0.0, 0.0, 0.0, 0.0, 0.0, 0.0, 0.0, 0.0, ...  3.483398   3.0  \n",
       "3  [0.0, 0.0, 0.0, 0.046603625175871494, 0.0, 0.0...  3.056984   4.0  \n",
       "4  [0.0, 0.0, 0.0, 0.0, 0.0, 0.0, 0.0, 0.0, 0.0, ...  2.355055   5.0  "
      ]
     },
     "execution_count": 29,
     "metadata": {},
     "output_type": "execute_result"
    }
   ],
   "source": [
    "# your code here\n",
    "df['Score'] = bm25_score(df, 'Tokens', search_queries[2], 1.2, 0.75)\n",
    "df = df.sort_values(by=\"Score\", ascending=False).reset_index(drop=True)\n",
    "df['Rank'] = df['Score'].rank(ascending=False)\n",
    "df.head()"
   ]
  },
  {
   "cell_type": "markdown",
   "metadata": {
    "id": "jOTZbC3_N-Jt"
   },
   "source": [
    "### Discussion (10 points)\n",
    "Briefly discuss the differences you see between the three methods. You should try additional queries beyond the ones we list. Is there a ranking approach you prefer? Explain and give concrete examples.\n"
   ]
  },
  {
   "cell_type": "markdown",
   "metadata": {},
   "source": [
    "#### QUERY tested: \"will you be there\" answer expected: \"Michael-jackson-will-you-be-there-lyrics\""
   ]
  },
  {
   "cell_type": "code",
   "execution_count": 30,
   "metadata": {},
   "outputs": [],
   "source": [
    "query = \"will you be there\""
   ]
  },
  {
   "cell_type": "code",
   "execution_count": 31,
   "metadata": {},
   "outputs": [
    {
     "data": {
      "text/html": [
       "<div>\n",
       "<style scoped>\n",
       "    .dataframe tbody tr th:only-of-type {\n",
       "        vertical-align: middle;\n",
       "    }\n",
       "\n",
       "    .dataframe tbody tr th {\n",
       "        vertical-align: top;\n",
       "    }\n",
       "\n",
       "    .dataframe thead th {\n",
       "        text-align: right;\n",
       "    }\n",
       "</style>\n",
       "<table border=\"1\" class=\"dataframe\">\n",
       "  <thead>\n",
       "    <tr style=\"text-align: right;\">\n",
       "      <th></th>\n",
       "      <th>DocumentID</th>\n",
       "      <th>Document</th>\n",
       "      <th>Tokens</th>\n",
       "      <th>tf_idf</th>\n",
       "      <th>Score</th>\n",
       "      <th>Rank</th>\n",
       "      <th>Query_Score</th>\n",
       "    </tr>\n",
       "  </thead>\n",
       "  <tbody>\n",
       "    <tr>\n",
       "      <th>0</th>\n",
       "      <td>Frank-ocean-godspeed-dvsn-remix-lyrics</td>\n",
       "      <td>i will always love you how i do let go of a...</td>\n",
       "      <td>[i, will, always, love, you, how, i, do, let, ...</td>\n",
       "      <td>[0.0, 0.0, 0.0, 0.0, 0.0, 0.0, 0.0, 0.0, 0.0, ...</td>\n",
       "      <td>0.000000</td>\n",
       "      <td>1.0</td>\n",
       "      <td>1.951193</td>\n",
       "    </tr>\n",
       "    <tr>\n",
       "      <th>1</th>\n",
       "      <td>Rihanna-umbrella-lyrics</td>\n",
       "      <td>uh-huh, uh-huh  uh-huh, uh-huh  uh-huh, uh-...</td>\n",
       "      <td>[uh-huh, ,, uh-huh, uh-huh, ,, uh-huh, uh-huh,...</td>\n",
       "      <td>[0.0, 0.0, 0.0, 0.052764938707345325, 0.0, 0.0...</td>\n",
       "      <td>0.435229</td>\n",
       "      <td>2.0</td>\n",
       "      <td>1.856156</td>\n",
       "    </tr>\n",
       "    <tr>\n",
       "      <th>2</th>\n",
       "      <td>Skylar-grey-tower-dont-look-down-lyrics</td>\n",
       "      <td>you're high up on the tower now don’t look ...</td>\n",
       "      <td>[you, are, high, up, on, the, tower, now, do, ...</td>\n",
       "      <td>[0.0, 0.0, 0.0, 0.05436794727557258, 0.0, 0.0,...</td>\n",
       "      <td>1.396168</td>\n",
       "      <td>3.0</td>\n",
       "      <td>1.836598</td>\n",
       "    </tr>\n",
       "    <tr>\n",
       "      <th>3</th>\n",
       "      <td>Lin-manuel-miranda-what-the-heck-i-gotta-do-ly...</td>\n",
       "      <td>the plan was called operation d-minus. and ...</td>\n",
       "      <td>[the, plan, wa, called, operation, d-minus, .,...</td>\n",
       "      <td>[0.08943780129527809, 0.0, 0.0, 0.0, 0.0, 0.0,...</td>\n",
       "      <td>0.669664</td>\n",
       "      <td>4.0</td>\n",
       "      <td>1.835006</td>\n",
       "    </tr>\n",
       "    <tr>\n",
       "      <th>4</th>\n",
       "      <td>Kanye-west-low-lights-lyrics</td>\n",
       "      <td>you want me to give you a testimony about m...</td>\n",
       "      <td>[you, want, me, to, give, you, a, testimony, a...</td>\n",
       "      <td>[0.0, 0.0, 0.0, 0.0, 0.0, 0.0, 0.0, 0.0, 0.0, ...</td>\n",
       "      <td>1.101982</td>\n",
       "      <td>5.0</td>\n",
       "      <td>1.828740</td>\n",
       "    </tr>\n",
       "  </tbody>\n",
       "</table>\n",
       "</div>"
      ],
      "text/plain": [
       "                                          DocumentID  \\\n",
       "0             Frank-ocean-godspeed-dvsn-remix-lyrics   \n",
       "1                            Rihanna-umbrella-lyrics   \n",
       "2            Skylar-grey-tower-dont-look-down-lyrics   \n",
       "3  Lin-manuel-miranda-what-the-heck-i-gotta-do-ly...   \n",
       "4                       Kanye-west-low-lights-lyrics   \n",
       "\n",
       "                                            Document  \\\n",
       "0     i will always love you how i do let go of a...   \n",
       "1     uh-huh, uh-huh  uh-huh, uh-huh  uh-huh, uh-...   \n",
       "2     you're high up on the tower now don’t look ...   \n",
       "3     the plan was called operation d-minus. and ...   \n",
       "4     you want me to give you a testimony about m...   \n",
       "\n",
       "                                              Tokens  \\\n",
       "0  [i, will, always, love, you, how, i, do, let, ...   \n",
       "1  [uh-huh, ,, uh-huh, uh-huh, ,, uh-huh, uh-huh,...   \n",
       "2  [you, are, high, up, on, the, tower, now, do, ...   \n",
       "3  [the, plan, wa, called, operation, d-minus, .,...   \n",
       "4  [you, want, me, to, give, you, a, testimony, a...   \n",
       "\n",
       "                                              tf_idf     Score  Rank  \\\n",
       "0  [0.0, 0.0, 0.0, 0.0, 0.0, 0.0, 0.0, 0.0, 0.0, ...  0.000000   1.0   \n",
       "1  [0.0, 0.0, 0.0, 0.052764938707345325, 0.0, 0.0...  0.435229   2.0   \n",
       "2  [0.0, 0.0, 0.0, 0.05436794727557258, 0.0, 0.0,...  1.396168   3.0   \n",
       "3  [0.08943780129527809, 0.0, 0.0, 0.0, 0.0, 0.0,...  0.669664   4.0   \n",
       "4  [0.0, 0.0, 0.0, 0.0, 0.0, 0.0, 0.0, 0.0, 0.0, ...  1.101982   5.0   \n",
       "\n",
       "   Query_Score  \n",
       "0     1.951193  \n",
       "1     1.856156  \n",
       "2     1.836598  \n",
       "3     1.835006  \n",
       "4     1.828740  "
      ]
     },
     "execution_count": 31,
     "metadata": {},
     "output_type": "execute_result"
    }
   ],
   "source": [
    "# TF-IDF\n",
    "result = index.search(query)\n",
    "\n",
    "#Gives only those docs which are relevant\n",
    "filtered_df = df[df['DocumentID'].isin(result)]\n",
    "filtered_df['Query_Score'] = 0\n",
    "\n",
    "for term in query.split():\n",
    "    idf_score = float(idf(term, df))\n",
    "    filtered_df['Query_Score'] += filtered_df.apply(lambda row: term_frequency(row['Tokens'], term), axis=1)*idf_score\n",
    "filtered_df = filtered_df.sort_values(by=\"Query_Score\", ascending=False).reset_index(drop=True)\n",
    "filtered_df['Rank'] = filtered_df['Query_Score'].rank(ascending=False)\n",
    "filtered_df.head()"
   ]
  },
  {
   "cell_type": "code",
   "execution_count": 32,
   "metadata": {},
   "outputs": [
    {
     "data": {
      "text/html": [
       "<div>\n",
       "<style scoped>\n",
       "    .dataframe tbody tr th:only-of-type {\n",
       "        vertical-align: middle;\n",
       "    }\n",
       "\n",
       "    .dataframe tbody tr th {\n",
       "        vertical-align: top;\n",
       "    }\n",
       "\n",
       "    .dataframe thead th {\n",
       "        text-align: right;\n",
       "    }\n",
       "</style>\n",
       "<table border=\"1\" class=\"dataframe\">\n",
       "  <thead>\n",
       "    <tr style=\"text-align: right;\">\n",
       "      <th></th>\n",
       "      <th>DocumentID</th>\n",
       "      <th>Document</th>\n",
       "      <th>Tokens</th>\n",
       "      <th>tf_idf</th>\n",
       "      <th>Score</th>\n",
       "      <th>Rank</th>\n",
       "    </tr>\n",
       "  </thead>\n",
       "  <tbody>\n",
       "    <tr>\n",
       "      <th>0</th>\n",
       "      <td>Kanye-west-low-lights-lyrics</td>\n",
       "      <td>you want me to give you a testimony about m...</td>\n",
       "      <td>[you, want, me, to, give, you, a, testimony, a...</td>\n",
       "      <td>[0.0, 0.0, 0.0, 0.0, 0.0, 0.0, 0.0, 0.0, 0.0, ...</td>\n",
       "      <td>0.084153</td>\n",
       "      <td>1.0</td>\n",
       "    </tr>\n",
       "    <tr>\n",
       "      <th>1</th>\n",
       "      <td>Imagine-dragons-release-lyrics</td>\n",
       "      <td>twenty miles from anyone set my sights on t...</td>\n",
       "      <td>[twenty, mile, from, anyone, set, my, sight, o...</td>\n",
       "      <td>[0.0, 0.0, 0.0, 0.0, 0.0, 0.0, 0.0, 0.0, 0.0, ...</td>\n",
       "      <td>0.083514</td>\n",
       "      <td>2.0</td>\n",
       "    </tr>\n",
       "    <tr>\n",
       "      <th>2</th>\n",
       "      <td>Alicia-keys-no-one-lyrics</td>\n",
       "      <td>i just want you close where you can stay fo...</td>\n",
       "      <td>[i, just, want, you, close, where, you, can, s...</td>\n",
       "      <td>[0.0, 0.0, 0.0, 0.08539408657035345, 0.0, 0.0,...</td>\n",
       "      <td>0.082507</td>\n",
       "      <td>3.0</td>\n",
       "    </tr>\n",
       "    <tr>\n",
       "      <th>3</th>\n",
       "      <td>Frank-ocean-godspeed-dvsn-remix-lyrics</td>\n",
       "      <td>i will always love you how i do let go of a...</td>\n",
       "      <td>[i, will, always, love, you, how, i, do, let, ...</td>\n",
       "      <td>[0.0, 0.0, 0.0, 0.0, 0.0, 0.0, 0.0, 0.0, 0.0, ...</td>\n",
       "      <td>0.079368</td>\n",
       "      <td>4.0</td>\n",
       "    </tr>\n",
       "    <tr>\n",
       "      <th>4</th>\n",
       "      <td>Skylar-grey-tower-dont-look-down-lyrics</td>\n",
       "      <td>you're high up on the tower now don’t look ...</td>\n",
       "      <td>[you, are, high, up, on, the, tower, now, do, ...</td>\n",
       "      <td>[0.0, 0.0, 0.0, 0.05436794727557258, 0.0, 0.0,...</td>\n",
       "      <td>0.075445</td>\n",
       "      <td>5.0</td>\n",
       "    </tr>\n",
       "  </tbody>\n",
       "</table>\n",
       "</div>"
      ],
      "text/plain": [
       "                                DocumentID  \\\n",
       "0             Kanye-west-low-lights-lyrics   \n",
       "1           Imagine-dragons-release-lyrics   \n",
       "2                Alicia-keys-no-one-lyrics   \n",
       "3   Frank-ocean-godspeed-dvsn-remix-lyrics   \n",
       "4  Skylar-grey-tower-dont-look-down-lyrics   \n",
       "\n",
       "                                            Document  \\\n",
       "0     you want me to give you a testimony about m...   \n",
       "1     twenty miles from anyone set my sights on t...   \n",
       "2     i just want you close where you can stay fo...   \n",
       "3     i will always love you how i do let go of a...   \n",
       "4     you're high up on the tower now don’t look ...   \n",
       "\n",
       "                                              Tokens  \\\n",
       "0  [you, want, me, to, give, you, a, testimony, a...   \n",
       "1  [twenty, mile, from, anyone, set, my, sight, o...   \n",
       "2  [i, just, want, you, close, where, you, can, s...   \n",
       "3  [i, will, always, love, you, how, i, do, let, ...   \n",
       "4  [you, are, high, up, on, the, tower, now, do, ...   \n",
       "\n",
       "                                              tf_idf     Score  Rank  \n",
       "0  [0.0, 0.0, 0.0, 0.0, 0.0, 0.0, 0.0, 0.0, 0.0, ...  0.084153   1.0  \n",
       "1  [0.0, 0.0, 0.0, 0.0, 0.0, 0.0, 0.0, 0.0, 0.0, ...  0.083514   2.0  \n",
       "2  [0.0, 0.0, 0.0, 0.08539408657035345, 0.0, 0.0,...  0.082507   3.0  \n",
       "3  [0.0, 0.0, 0.0, 0.0, 0.0, 0.0, 0.0, 0.0, 0.0, ...  0.079368   4.0  \n",
       "4  [0.0, 0.0, 0.0, 0.05436794727557258, 0.0, 0.0,...  0.075445   5.0  "
      ]
     },
     "execution_count": 32,
     "metadata": {},
     "output_type": "execute_result"
    }
   ],
   "source": [
    "# VectorSpace with TF-IDF\n",
    "query_vector = index_norm_query(query, doc_dict)\n",
    "df['Score'] = [sum([i*j for i,j in zip(row, query_vector)]) for row in df['tf_idf']]\n",
    "df = df.sort_values(by=\"Score\", ascending=False).reset_index(drop=True)\n",
    "df['Rank'] = df['Score'].rank(ascending=False)\n",
    "df.head()"
   ]
  },
  {
   "cell_type": "code",
   "execution_count": 33,
   "metadata": {},
   "outputs": [
    {
     "data": {
      "text/html": [
       "<div>\n",
       "<style scoped>\n",
       "    .dataframe tbody tr th:only-of-type {\n",
       "        vertical-align: middle;\n",
       "    }\n",
       "\n",
       "    .dataframe tbody tr th {\n",
       "        vertical-align: top;\n",
       "    }\n",
       "\n",
       "    .dataframe thead th {\n",
       "        text-align: right;\n",
       "    }\n",
       "</style>\n",
       "<table border=\"1\" class=\"dataframe\">\n",
       "  <thead>\n",
       "    <tr style=\"text-align: right;\">\n",
       "      <th></th>\n",
       "      <th>DocumentID</th>\n",
       "      <th>Document</th>\n",
       "      <th>Tokens</th>\n",
       "      <th>tf_idf</th>\n",
       "      <th>Score</th>\n",
       "      <th>Rank</th>\n",
       "    </tr>\n",
       "  </thead>\n",
       "  <tbody>\n",
       "    <tr>\n",
       "      <th>0</th>\n",
       "      <td>Frank-ocean-godspeed-dvsn-remix-lyrics</td>\n",
       "      <td>i will always love you how i do let go of a...</td>\n",
       "      <td>[i, will, always, love, you, how, i, do, let, ...</td>\n",
       "      <td>[0.0, 0.0, 0.0, 0.0, 0.0, 0.0, 0.0, 0.0, 0.0, ...</td>\n",
       "      <td>2.012258</td>\n",
       "      <td>1.0</td>\n",
       "    </tr>\n",
       "    <tr>\n",
       "      <th>1</th>\n",
       "      <td>Michael-jackson-will-you-be-there-lyrics</td>\n",
       "      <td>hold me like the river jordan and i will th...</td>\n",
       "      <td>[hold, me, like, the, river, jordan, and, i, w...</td>\n",
       "      <td>[0.0, 0.0, 0.0, 0.0, 0.0, 0.0, 0.0, 0.0, 0.0, ...</td>\n",
       "      <td>2.005938</td>\n",
       "      <td>2.0</td>\n",
       "    </tr>\n",
       "    <tr>\n",
       "      <th>2</th>\n",
       "      <td>Kanye-west-low-lights-lyrics</td>\n",
       "      <td>you want me to give you a testimony about m...</td>\n",
       "      <td>[you, want, me, to, give, you, a, testimony, a...</td>\n",
       "      <td>[0.0, 0.0, 0.0, 0.0, 0.0, 0.0, 0.0, 0.0, 0.0, ...</td>\n",
       "      <td>1.934673</td>\n",
       "      <td>3.0</td>\n",
       "    </tr>\n",
       "    <tr>\n",
       "      <th>3</th>\n",
       "      <td>Skylar-grey-tower-dont-look-down-lyrics</td>\n",
       "      <td>you're high up on the tower now don’t look ...</td>\n",
       "      <td>[you, are, high, up, on, the, tower, now, do, ...</td>\n",
       "      <td>[0.0, 0.0, 0.0, 0.05436794727557258, 0.0, 0.0,...</td>\n",
       "      <td>1.930400</td>\n",
       "      <td>4.0</td>\n",
       "    </tr>\n",
       "    <tr>\n",
       "      <th>4</th>\n",
       "      <td>Miley-cyrus-if-we-were-a-movie-lyrics</td>\n",
       "      <td>uh oh there you go again, talking cinematic...</td>\n",
       "      <td>[uh, oh, there, you, go, again, ,, talking, ci...</td>\n",
       "      <td>[0.0, 0.0, 0.0, 0.0, 0.0, 0.0, 0.0, 0.0, 0.0, ...</td>\n",
       "      <td>1.844927</td>\n",
       "      <td>5.0</td>\n",
       "    </tr>\n",
       "  </tbody>\n",
       "</table>\n",
       "</div>"
      ],
      "text/plain": [
       "                                 DocumentID  \\\n",
       "0    Frank-ocean-godspeed-dvsn-remix-lyrics   \n",
       "1  Michael-jackson-will-you-be-there-lyrics   \n",
       "2              Kanye-west-low-lights-lyrics   \n",
       "3   Skylar-grey-tower-dont-look-down-lyrics   \n",
       "4     Miley-cyrus-if-we-were-a-movie-lyrics   \n",
       "\n",
       "                                            Document  \\\n",
       "0     i will always love you how i do let go of a...   \n",
       "1     hold me like the river jordan and i will th...   \n",
       "2     you want me to give you a testimony about m...   \n",
       "3     you're high up on the tower now don’t look ...   \n",
       "4     uh oh there you go again, talking cinematic...   \n",
       "\n",
       "                                              Tokens  \\\n",
       "0  [i, will, always, love, you, how, i, do, let, ...   \n",
       "1  [hold, me, like, the, river, jordan, and, i, w...   \n",
       "2  [you, want, me, to, give, you, a, testimony, a...   \n",
       "3  [you, are, high, up, on, the, tower, now, do, ...   \n",
       "4  [uh, oh, there, you, go, again, ,, talking, ci...   \n",
       "\n",
       "                                              tf_idf     Score  Rank  \n",
       "0  [0.0, 0.0, 0.0, 0.0, 0.0, 0.0, 0.0, 0.0, 0.0, ...  2.012258   1.0  \n",
       "1  [0.0, 0.0, 0.0, 0.0, 0.0, 0.0, 0.0, 0.0, 0.0, ...  2.005938   2.0  \n",
       "2  [0.0, 0.0, 0.0, 0.0, 0.0, 0.0, 0.0, 0.0, 0.0, ...  1.934673   3.0  \n",
       "3  [0.0, 0.0, 0.0, 0.05436794727557258, 0.0, 0.0,...  1.930400   4.0  \n",
       "4  [0.0, 0.0, 0.0, 0.0, 0.0, 0.0, 0.0, 0.0, 0.0, ...  1.844927   5.0  "
      ]
     },
     "execution_count": 33,
     "metadata": {},
     "output_type": "execute_result"
    }
   ],
   "source": [
    "#BM-25\n",
    "df['Score'] = bm25_score(df, 'Tokens', query, 1.2, 0.75)\n",
    "df = df.sort_values(by=\"Score\", ascending=False).reset_index(drop=True)\n",
    "df['Rank'] = df['Score'].rank(ascending=False)\n",
    "df.head()"
   ]
  },
  {
   "cell_type": "markdown",
   "metadata": {
    "id": "Ed1RYi-P0VCM"
   },
   "source": [
    "### The advantages and disadvantages of each of the algorithms tried:\n",
    "\n",
    "Using the TF-IDF algorithm, lyrics that are more pertinent to the search query are given a better ranking. This algorithm considers the term frequency (TF) and inverse document frequency (IDF) of the words in the lyrics. However, because it does not use the lyrics' contextual information, it might not perform well in situations when the context is crucial for the search results.\n",
    "\n",
    "Using TF-IDF to calculate the cosine similarity of the vectors that represent the query and the lyrics, this technique determines how similar the query and the lyrics are to one another. When looking for lyrics that are semantically related to a query, this approach to song lyric search might be extremely useful.\n",
    "\n",
    "BM25: Similar to TF-IDF, BM25 is a probabilistic model that determines the relevance score between the search term and the lyrics while accounting for TF and IDF as well as other factors. Because it provides a more comprehensive approach to addressing term frequency and inverse document frequency, BM25 may occasionally be more effective than TF-IDF.\n",
    "\n",
    "### Preferred Ranking Approach\n",
    "\n",
    "As discussed advantages and disadvantages above, and looking at the results for given queries, BM25 algorithm worked better. \n",
    "I tried with custom query where answer is expected to be 'Michael-jackson-will-you-be-there-lyrics', only BM25 returned the song in top 5 results."
   ]
  },
  {
   "cell_type": "markdown",
   "metadata": {
    "id": "LYce9oRO6sbl"
   },
   "source": [
    "# Part 4: Cool Extension (10 points) \n",
    "\n",
    "Finally, we give you an opportunity to explore some more sophisticated approach to your search engine. This is your chance to show off something you find interesting. For example, you might:\n",
    "\n",
    "\n",
    "*   Add a positional index so you can support phrase queries\n",
    "*   Implement a permuterm index for wildcard queries\n",
    "*   Incorporate spell correction\n",
    "*   Index all of the lyrics at https://www.cs.cornell.edu/~arb/data/genius-expertise/ and demonstrate an efficient implementation\n",
    "*   Try a more advanced ranking approach\n",
    "*   ...\n",
    "\n",
    "We will grade this last part according to effort, creativity, and impact.\n",
    "\n"
   ]
  },
  {
   "cell_type": "code",
   "execution_count": 34,
   "metadata": {},
   "outputs": [
    {
     "name": "stdout",
     "output_type": "stream",
     "text": [
      "Corrected Query is: will you be there \n",
      "Corrected Query is: hello world \n",
      "Corrected Query is: time \n",
      "Corrected Query is: love \n",
      "Corrected Query is: never know \n",
      "Corrected Query is: make no sense \n"
     ]
    }
   ],
   "source": [
    "# Spell Correction\n",
    "def correct_spellings(word, dictionary):\n",
    "    word = word.lower()\n",
    "    closest_word = word\n",
    "    closest_distance = float('inf')\n",
    "    for dict_word in dictionary:\n",
    "        distance = edit_distance(word, dict_word)\n",
    "        if distance < closest_distance:\n",
    "            closest_distance = distance\n",
    "            closest_word = dict_word\n",
    "    return closest_word\n",
    "\n",
    "def edit_distance(word1, word2):\n",
    "    m, n = len(word1), len(word2)\n",
    "    dp = [[0 for _ in range(n + 1)] for _ in range(m + 1)]\n",
    "    for i in range(m + 1):\n",
    "        for j in range(n + 1):\n",
    "            if i == 0:\n",
    "                dp[i][j] = j\n",
    "            elif j == 0:\n",
    "                dp[i][j] = i\n",
    "            elif word1[i - 1] == word2[j - 1]:\n",
    "                dp[i][j] = dp[i - 1][j - 1]\n",
    "            else:\n",
    "                dp[i][j] = 1 + min(dp[i - 1][j], dp[i][j - 1], dp[i - 1][j - 1])\n",
    "    return dp[m][n]\n",
    "\n",
    "queries = [\"willl ypu bee there\", \"hullo warld\", \"time\", \"loveu\", \"neper knou\", \"make no sence\"]\n",
    "for query in queries:\n",
    "    corrected_query = \"\"\n",
    "    for term in query.split():\n",
    "        corrected_query += str(correct_spellings(term, doc_dict)) + \" \"\n",
    "    print(\"Corrected Query is:\", corrected_query)"
   ]
  },
  {
   "cell_type": "code",
   "execution_count": 35,
   "metadata": {},
   "outputs": [
    {
     "name": "stdout",
     "output_type": "stream",
     "text": [
      "['Michael-jackson-will-you-be-there-lyrics']\n"
     ]
    }
   ],
   "source": [
    "# Positional Index to support adjacent phrase queries\n",
    "class PositionalIndex:\n",
    "    def __init__(self, documents, doc_ids):\n",
    "        self.documents = documents\n",
    "        self.doc_ids = doc_ids\n",
    "        self.index = {}\n",
    "        for i, doc in enumerate(documents):\n",
    "            words = doc\n",
    "            for j, word in enumerate(words):\n",
    "                if word not in self.index:\n",
    "                    self.index[word] = {}\n",
    "                if doc_ids[i] not in self.index[word]:\n",
    "                    self.index[word][doc_ids[i]] = []\n",
    "                self.index[word][doc_ids[i]].append(j)\n",
    "\n",
    "    def search(self, query):\n",
    "        query_terms = query.split()\n",
    "        matching_doc_ids = []\n",
    "        if query_terms[0] in self.index:\n",
    "            for doc_id, positions in self.index[query_terms[0]].items():\n",
    "                for pos in positions:\n",
    "                    found = True\n",
    "                    for i in range(1, len(query_terms)):\n",
    "                        if doc_id not in self.index.get(query_terms[i], {}) or pos + i not in self.index[query_terms[i]][doc_id]:\n",
    "                            found = False\n",
    "                            break\n",
    "                    if found:\n",
    "                        matching_doc_ids.append(doc_id)\n",
    "                        break\n",
    "        return matching_doc_ids\n",
    "\n",
    "pos_index = PositionalIndex(df['Tokens'].tolist(), df['DocumentID'].tolist())\n",
    "\n",
    "query = 'will you be there'\n",
    "matching_docs = pos_index.search(query)\n",
    "print(matching_docs)\n"
   ]
  },
  {
   "cell_type": "markdown",
   "metadata": {},
   "source": [
    "### Reason to consider spell check and positional index (adjacent words):\n",
    "Most of the users will remember lyrics as adjacent phrases. So its better to check if the words appear in order for a phrase query by user.\n",
    "While typing the user might make typos. So check for those as well.\n",
    "Look at example below."
   ]
  },
  {
   "cell_type": "code",
   "execution_count": 36,
   "metadata": {},
   "outputs": [
    {
     "name": "stdout",
     "output_type": "stream",
     "text": [
      "Corrected Query is: will you be \n",
      "Matching Documnets are: ['Michael-jackson-will-you-be-there-lyrics', 'Lana-del-rey-caught-you-boy-lyrics']\n"
     ]
    }
   ],
   "source": [
    "query = \"will ypu bee\"\n",
    "corrected_query = \"\"\n",
    "for term in query.split():\n",
    "    corrected_query += str(correct_spellings(term, doc_dict)) + \" \"\n",
    "print(\"Corrected Query is:\", corrected_query)\n",
    "matching_docs = pos_index.search(corrected_query)\n",
    "print(\"Matching Documnets are:\", matching_docs)"
   ]
  },
  {
   "cell_type": "code",
   "execution_count": 37,
   "metadata": {},
   "outputs": [
    {
     "name": "stdout",
     "output_type": "stream",
     "text": [
      "Now our search becomes easy and limited to less number of documnets to rank😀\n"
     ]
    }
   ],
   "source": [
    "print(\"Now our search becomes easy and limited to less number of documnets to rank\" \"\\U0001f600\")"
   ]
  },
  {
   "cell_type": "markdown",
   "metadata": {
    "id": "FihN3qniN-Jy"
   },
   "source": [
    "# Collaboration Declarations"
   ]
  },
  {
   "cell_type": "markdown",
   "metadata": {
    "id": "3EKp_Fe-N-Jy"
   },
   "source": [
    "** You should fill out your collaboration declarations here.**\n",
    "\n",
    "**Reminder:** You are expected to complete each homework independently. Your solution should be written by you without the direct aid or help of anyone else. However, we believe that collaboration and team work are important for facilitating learning, so we encourage you to discuss problems and general problem approaches (but not actual solutions) with your classmates. You may post on Piazza, search StackOverflow, etc. But if you do get help in this way, you must inform us by filling out the Collaboration Declarations at the bottom of this notebook.\n",
    "\n",
    "Example: I found helpful code on stackoverflow at https://stackoverflow.com/questions/11764539/writing-fizzbuzz that helped me solve Problem 2."
   ]
  },
  {
   "cell_type": "markdown",
   "metadata": {},
   "source": [
    "I found helpful code on stack overflow for reading json file  \n",
    "I found list of punctuation that can be removed on google  \n",
    "I found helpful code on google to remove stopwords  \n",
    "I found helpful first draft of structured code for inverted index to support Boolean Retrieval on chatGPT  \n",
    "I found helpful first draft of theoretical questions like why zipf's law, comparing 3 algorithms on chatGPT  "
   ]
  }
 ],
 "metadata": {
  "colab": {
   "provenance": []
  },
  "kernelspec": {
   "display_name": "Python 3 (ipykernel)",
   "language": "python",
   "name": "python3"
  },
  "language_info": {
   "codemirror_mode": {
    "name": "ipython",
    "version": 3
   },
   "file_extension": ".py",
   "mimetype": "text/x-python",
   "name": "python",
   "nbconvert_exporter": "python",
   "pygments_lexer": "ipython3",
   "version": "3.9.13"
  }
 },
 "nbformat": 4,
 "nbformat_minor": 1
}
